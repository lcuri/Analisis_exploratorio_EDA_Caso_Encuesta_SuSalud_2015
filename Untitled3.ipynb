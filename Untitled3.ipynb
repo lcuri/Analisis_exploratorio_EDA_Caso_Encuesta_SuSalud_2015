{
  "nbformat": 4,
  "nbformat_minor": 0,
  "metadata": {
    "colab": {
      "provenance": [],
      "authorship_tag": "ABX9TyORsmkKhYmDdwx89XGKEIFn",
      "include_colab_link": true
    },
    "kernelspec": {
      "name": "python3",
      "display_name": "Python 3"
    },
    "language_info": {
      "name": "python"
    },
    "gpuClass": "standard"
  },
  "cells": [
    {
      "cell_type": "markdown",
      "metadata": {
        "id": "view-in-github",
        "colab_type": "text"
      },
      "source": [
        "<a href=\"https://colab.research.google.com/github/lcuri/Proyectos_Python/blob/main/Untitled3.ipynb\" target=\"_parent\"><img src=\"https://colab.research.google.com/assets/colab-badge.svg\" alt=\"Open In Colab\"/></a>"
      ]
    },
    {
      "cell_type": "markdown",
      "source": [
        "# **ANÁLISIS EXPLORATORIO DE DATOS**\n"
      ],
      "metadata": {
        "id": "IdMbnA8xO_s6"
      }
    },
    {
      "cell_type": "markdown",
      "source": [
        "## Preparar el entorno\n"
      ],
      "metadata": {
        "id": "kIVM9zglQLN7"
      }
    },
    {
      "cell_type": "code",
      "execution_count": null,
      "metadata": {
        "id": "UzbiyPFrO5iW"
      },
      "outputs": [],
      "source": [
        "#importar paquetes necesarios\n",
        "import pandas as pd\n",
        "import numpy as np\n",
        "import matplotlib.pyplot as plt\n",
        "import math as ma\n",
        "import seaborn as sns\n"
      ]
    },
    {
      "cell_type": "code",
      "source": [
        "%pip install pyreadstat ##instalar este paquete para que pueda leer .sav"
      ],
      "metadata": {
        "colab": {
          "base_uri": "https://localhost:8080/"
        },
        "id": "rGBeDzHlUGzn",
        "outputId": "ec669fb5-aeda-4c3d-edc8-44ca362428bc"
      },
      "execution_count": null,
      "outputs": [
        {
          "output_type": "stream",
          "name": "stdout",
          "text": [
            "Looking in indexes: https://pypi.org/simple, https://us-python.pkg.dev/colab-wheels/public/simple/\n",
            "Collecting pyreadstat\n",
            "  Downloading pyreadstat-1.2.0-cp38-cp38-manylinux_2_17_x86_64.manylinux2014_x86_64.whl (2.7 MB)\n",
            "\u001b[2K     \u001b[90m━━━━━━━━━━━━━━━━━━━━━━━━━━━━━━━━━━━━━━━━\u001b[0m \u001b[32m2.7/2.7 MB\u001b[0m \u001b[31m76.0 MB/s\u001b[0m eta \u001b[36m0:00:00\u001b[0m\n",
            "\u001b[?25hRequirement already satisfied: pandas>=1.2.0 in /usr/local/lib/python3.8/dist-packages (from pyreadstat) (1.3.5)\n",
            "Requirement already satisfied: numpy>=1.17.3 in /usr/local/lib/python3.8/dist-packages (from pandas>=1.2.0->pyreadstat) (1.21.6)\n",
            "Requirement already satisfied: python-dateutil>=2.7.3 in /usr/local/lib/python3.8/dist-packages (from pandas>=1.2.0->pyreadstat) (2.8.2)\n",
            "Requirement already satisfied: pytz>=2017.3 in /usr/local/lib/python3.8/dist-packages (from pandas>=1.2.0->pyreadstat) (2022.7)\n",
            "Requirement already satisfied: six>=1.5 in /usr/local/lib/python3.8/dist-packages (from python-dateutil>=2.7.3->pandas>=1.2.0->pyreadstat) (1.15.0)\n",
            "Installing collected packages: pyreadstat\n",
            "Successfully installed pyreadstat-1.2.0\n"
          ]
        }
      ]
    },
    {
      "cell_type": "code",
      "source": [
        "#Importar la base\n",
        "base = pd.read_spss(\"/content/CUESTIONARIO 02 - CAPITULOS.sav\")"
      ],
      "metadata": {
        "id": "VQp9tUQ4QK_f"
      },
      "execution_count": null,
      "outputs": []
    },
    {
      "cell_type": "markdown",
      "source": [
        "## 1. Tratamiento de datos"
      ],
      "metadata": {
        "id": "k83bojtLZt4y"
      }
    },
    {
      "cell_type": "markdown",
      "source": [
        "### 1.1. Características generales de la información"
      ],
      "metadata": {
        "id": "-8meTAZUZ-Zv"
      }
    },
    {
      "cell_type": "code",
      "source": [
        "#cantidad d filas y columnas\n",
        "base.shape"
      ],
      "metadata": {
        "colab": {
          "base_uri": "https://localhost:8080/"
        },
        "id": "Etl62gGSZsqH",
        "outputId": "c292097b-d315-46c6-f4a0-1405028ea787"
      },
      "execution_count": null,
      "outputs": [
        {
          "output_type": "execute_result",
          "data": {
            "text/plain": [
              "(5067, 270)"
            ]
          },
          "metadata": {},
          "execution_count": 4
        }
      ]
    },
    {
      "cell_type": "code",
      "source": [
        "#mostrar el nommbre de las columnas\n",
        "base.columns"
      ],
      "metadata": {
        "colab": {
          "base_uri": "https://localhost:8080/"
        },
        "id": "59kPVay6Z9rj",
        "outputId": "7b767724-7b71-4c0e-9708-5970ca00b456"
      },
      "execution_count": null,
      "outputs": [
        {
          "output_type": "execute_result",
          "data": {
            "text/plain": [
              "Index(['ID', 'USUARIOID', 'CCDD', 'DEPARTAMENTO', 'CCPP', 'PROVINCIA', 'CCDI',\n",
              "       'DISTRITO', 'cccp', 'nombreCP',\n",
              "       ...\n",
              "       'C2P67_5', 'C2P67_6', 'C2P67_7', 'C2P67_8', 'C2P67_9', 'C2P67_10',\n",
              "       'C2P67_11', 'C2P67_12', 'C2P67_13', 'C2P67_14'],\n",
              "      dtype='object', length=270)"
            ]
          },
          "metadata": {},
          "execution_count": 5
        }
      ]
    },
    {
      "cell_type": "code",
      "source": [
        "#Muestra de los datos\n",
        "base.iloc[0:5,0:20]"
      ],
      "metadata": {
        "colab": {
          "base_uri": "https://localhost:8080/"
        },
        "id": "S5TfiNvaaedP",
        "outputId": "16173f7a-12cb-4b26-9063-708664612bed"
      },
      "execution_count": null,
      "outputs": [
        {
          "output_type": "execute_result",
          "data": {
            "text/plain": [
              "    ID USUARIOID CCDD DEPARTAMENTO CCPP    PROVINCIA CCDI     DISTRITO  cccp  \\\n",
              "0  1.0     EVAL3   01     AMAZONAS   01  CHACHAPOYAS   01  CHACHAPOYAS  0001   \n",
              "1  1.0     EVAL3   01     AMAZONAS   01  CHACHAPOYAS   01  CHACHAPOYAS  0001   \n",
              "2  1.0     EVAL3   01     AMAZONAS   01  CHACHAPOYAS   01  CHACHAPOYAS  0001   \n",
              "3  1.0     EVAL3   01     AMAZONAS   01  CHACHAPOYAS   01  CHACHAPOYAS  0001   \n",
              "4  1.0     EVAL3   01     AMAZONAS   01  CHACHAPOYAS   01  CHACHAPOYAS  0001   \n",
              "\n",
              "      nombreCP  zona1 manzana1 CONGLOMERADO REGION      dominiog  \\\n",
              "0  CHACHAPOYAS  00600      004         7095  Selva  Sierra Norte   \n",
              "1  CHACHAPOYAS  00600      004         7095  Selva  Sierra Norte   \n",
              "2  CHACHAPOYAS  00600      004         7095  Selva  Sierra Norte   \n",
              "3  CHACHAPOYAS  00600      004         7095  Selva  Sierra Norte   \n",
              "4  CHACHAPOYAS  00600      004         7095  Selva  Sierra Norte   \n",
              "\n",
              "                  nombre COD_RENAES CATEGORIA INSTITUCION  C2DIAFINAL  \n",
              "0  HOSPITAL I HIGOS URCO   00009066      II-1     ESSALUD        29.0  \n",
              "1  HOSPITAL I HIGOS URCO   00009066      II-1     ESSALUD        29.0  \n",
              "2  HOSPITAL I HIGOS URCO   00009066      II-1     ESSALUD        29.0  \n",
              "3  HOSPITAL I HIGOS URCO   00009066      II-1     ESSALUD        29.0  \n",
              "4  HOSPITAL I HIGOS URCO   00009066      II-1     ESSALUD        29.0  "
            ],
            "text/html": [
              "\n",
              "  <div id=\"df-9f30a102-11ee-41cb-b236-77f088562645\">\n",
              "    <div class=\"colab-df-container\">\n",
              "      <div>\n",
              "<style scoped>\n",
              "    .dataframe tbody tr th:only-of-type {\n",
              "        vertical-align: middle;\n",
              "    }\n",
              "\n",
              "    .dataframe tbody tr th {\n",
              "        vertical-align: top;\n",
              "    }\n",
              "\n",
              "    .dataframe thead th {\n",
              "        text-align: right;\n",
              "    }\n",
              "</style>\n",
              "<table border=\"1\" class=\"dataframe\">\n",
              "  <thead>\n",
              "    <tr style=\"text-align: right;\">\n",
              "      <th></th>\n",
              "      <th>ID</th>\n",
              "      <th>USUARIOID</th>\n",
              "      <th>CCDD</th>\n",
              "      <th>DEPARTAMENTO</th>\n",
              "      <th>CCPP</th>\n",
              "      <th>PROVINCIA</th>\n",
              "      <th>CCDI</th>\n",
              "      <th>DISTRITO</th>\n",
              "      <th>cccp</th>\n",
              "      <th>nombreCP</th>\n",
              "      <th>zona1</th>\n",
              "      <th>manzana1</th>\n",
              "      <th>CONGLOMERADO</th>\n",
              "      <th>REGION</th>\n",
              "      <th>dominiog</th>\n",
              "      <th>nombre</th>\n",
              "      <th>COD_RENAES</th>\n",
              "      <th>CATEGORIA</th>\n",
              "      <th>INSTITUCION</th>\n",
              "      <th>C2DIAFINAL</th>\n",
              "    </tr>\n",
              "  </thead>\n",
              "  <tbody>\n",
              "    <tr>\n",
              "      <th>0</th>\n",
              "      <td>1.0</td>\n",
              "      <td>EVAL3</td>\n",
              "      <td>01</td>\n",
              "      <td>AMAZONAS</td>\n",
              "      <td>01</td>\n",
              "      <td>CHACHAPOYAS</td>\n",
              "      <td>01</td>\n",
              "      <td>CHACHAPOYAS</td>\n",
              "      <td>0001</td>\n",
              "      <td>CHACHAPOYAS</td>\n",
              "      <td>00600</td>\n",
              "      <td>004</td>\n",
              "      <td>7095</td>\n",
              "      <td>Selva</td>\n",
              "      <td>Sierra Norte</td>\n",
              "      <td>HOSPITAL I HIGOS URCO</td>\n",
              "      <td>00009066</td>\n",
              "      <td>II-1</td>\n",
              "      <td>ESSALUD</td>\n",
              "      <td>29.0</td>\n",
              "    </tr>\n",
              "    <tr>\n",
              "      <th>1</th>\n",
              "      <td>1.0</td>\n",
              "      <td>EVAL3</td>\n",
              "      <td>01</td>\n",
              "      <td>AMAZONAS</td>\n",
              "      <td>01</td>\n",
              "      <td>CHACHAPOYAS</td>\n",
              "      <td>01</td>\n",
              "      <td>CHACHAPOYAS</td>\n",
              "      <td>0001</td>\n",
              "      <td>CHACHAPOYAS</td>\n",
              "      <td>00600</td>\n",
              "      <td>004</td>\n",
              "      <td>7095</td>\n",
              "      <td>Selva</td>\n",
              "      <td>Sierra Norte</td>\n",
              "      <td>HOSPITAL I HIGOS URCO</td>\n",
              "      <td>00009066</td>\n",
              "      <td>II-1</td>\n",
              "      <td>ESSALUD</td>\n",
              "      <td>29.0</td>\n",
              "    </tr>\n",
              "    <tr>\n",
              "      <th>2</th>\n",
              "      <td>1.0</td>\n",
              "      <td>EVAL3</td>\n",
              "      <td>01</td>\n",
              "      <td>AMAZONAS</td>\n",
              "      <td>01</td>\n",
              "      <td>CHACHAPOYAS</td>\n",
              "      <td>01</td>\n",
              "      <td>CHACHAPOYAS</td>\n",
              "      <td>0001</td>\n",
              "      <td>CHACHAPOYAS</td>\n",
              "      <td>00600</td>\n",
              "      <td>004</td>\n",
              "      <td>7095</td>\n",
              "      <td>Selva</td>\n",
              "      <td>Sierra Norte</td>\n",
              "      <td>HOSPITAL I HIGOS URCO</td>\n",
              "      <td>00009066</td>\n",
              "      <td>II-1</td>\n",
              "      <td>ESSALUD</td>\n",
              "      <td>29.0</td>\n",
              "    </tr>\n",
              "    <tr>\n",
              "      <th>3</th>\n",
              "      <td>1.0</td>\n",
              "      <td>EVAL3</td>\n",
              "      <td>01</td>\n",
              "      <td>AMAZONAS</td>\n",
              "      <td>01</td>\n",
              "      <td>CHACHAPOYAS</td>\n",
              "      <td>01</td>\n",
              "      <td>CHACHAPOYAS</td>\n",
              "      <td>0001</td>\n",
              "      <td>CHACHAPOYAS</td>\n",
              "      <td>00600</td>\n",
              "      <td>004</td>\n",
              "      <td>7095</td>\n",
              "      <td>Selva</td>\n",
              "      <td>Sierra Norte</td>\n",
              "      <td>HOSPITAL I HIGOS URCO</td>\n",
              "      <td>00009066</td>\n",
              "      <td>II-1</td>\n",
              "      <td>ESSALUD</td>\n",
              "      <td>29.0</td>\n",
              "    </tr>\n",
              "    <tr>\n",
              "      <th>4</th>\n",
              "      <td>1.0</td>\n",
              "      <td>EVAL3</td>\n",
              "      <td>01</td>\n",
              "      <td>AMAZONAS</td>\n",
              "      <td>01</td>\n",
              "      <td>CHACHAPOYAS</td>\n",
              "      <td>01</td>\n",
              "      <td>CHACHAPOYAS</td>\n",
              "      <td>0001</td>\n",
              "      <td>CHACHAPOYAS</td>\n",
              "      <td>00600</td>\n",
              "      <td>004</td>\n",
              "      <td>7095</td>\n",
              "      <td>Selva</td>\n",
              "      <td>Sierra Norte</td>\n",
              "      <td>HOSPITAL I HIGOS URCO</td>\n",
              "      <td>00009066</td>\n",
              "      <td>II-1</td>\n",
              "      <td>ESSALUD</td>\n",
              "      <td>29.0</td>\n",
              "    </tr>\n",
              "  </tbody>\n",
              "</table>\n",
              "</div>\n",
              "      <button class=\"colab-df-convert\" onclick=\"convertToInteractive('df-9f30a102-11ee-41cb-b236-77f088562645')\"\n",
              "              title=\"Convert this dataframe to an interactive table.\"\n",
              "              style=\"display:none;\">\n",
              "        \n",
              "  <svg xmlns=\"http://www.w3.org/2000/svg\" height=\"24px\"viewBox=\"0 0 24 24\"\n",
              "       width=\"24px\">\n",
              "    <path d=\"M0 0h24v24H0V0z\" fill=\"none\"/>\n",
              "    <path d=\"M18.56 5.44l.94 2.06.94-2.06 2.06-.94-2.06-.94-.94-2.06-.94 2.06-2.06.94zm-11 1L8.5 8.5l.94-2.06 2.06-.94-2.06-.94L8.5 2.5l-.94 2.06-2.06.94zm10 10l.94 2.06.94-2.06 2.06-.94-2.06-.94-.94-2.06-.94 2.06-2.06.94z\"/><path d=\"M17.41 7.96l-1.37-1.37c-.4-.4-.92-.59-1.43-.59-.52 0-1.04.2-1.43.59L10.3 9.45l-7.72 7.72c-.78.78-.78 2.05 0 2.83L4 21.41c.39.39.9.59 1.41.59.51 0 1.02-.2 1.41-.59l7.78-7.78 2.81-2.81c.8-.78.8-2.07 0-2.86zM5.41 20L4 18.59l7.72-7.72 1.47 1.35L5.41 20z\"/>\n",
              "  </svg>\n",
              "      </button>\n",
              "      \n",
              "  <style>\n",
              "    .colab-df-container {\n",
              "      display:flex;\n",
              "      flex-wrap:wrap;\n",
              "      gap: 12px;\n",
              "    }\n",
              "\n",
              "    .colab-df-convert {\n",
              "      background-color: #E8F0FE;\n",
              "      border: none;\n",
              "      border-radius: 50%;\n",
              "      cursor: pointer;\n",
              "      display: none;\n",
              "      fill: #1967D2;\n",
              "      height: 32px;\n",
              "      padding: 0 0 0 0;\n",
              "      width: 32px;\n",
              "    }\n",
              "\n",
              "    .colab-df-convert:hover {\n",
              "      background-color: #E2EBFA;\n",
              "      box-shadow: 0px 1px 2px rgba(60, 64, 67, 0.3), 0px 1px 3px 1px rgba(60, 64, 67, 0.15);\n",
              "      fill: #174EA6;\n",
              "    }\n",
              "\n",
              "    [theme=dark] .colab-df-convert {\n",
              "      background-color: #3B4455;\n",
              "      fill: #D2E3FC;\n",
              "    }\n",
              "\n",
              "    [theme=dark] .colab-df-convert:hover {\n",
              "      background-color: #434B5C;\n",
              "      box-shadow: 0px 1px 3px 1px rgba(0, 0, 0, 0.15);\n",
              "      filter: drop-shadow(0px 1px 2px rgba(0, 0, 0, 0.3));\n",
              "      fill: #FFFFFF;\n",
              "    }\n",
              "  </style>\n",
              "\n",
              "      <script>\n",
              "        const buttonEl =\n",
              "          document.querySelector('#df-9f30a102-11ee-41cb-b236-77f088562645 button.colab-df-convert');\n",
              "        buttonEl.style.display =\n",
              "          google.colab.kernel.accessAllowed ? 'block' : 'none';\n",
              "\n",
              "        async function convertToInteractive(key) {\n",
              "          const element = document.querySelector('#df-9f30a102-11ee-41cb-b236-77f088562645');\n",
              "          const dataTable =\n",
              "            await google.colab.kernel.invokeFunction('convertToInteractive',\n",
              "                                                     [key], {});\n",
              "          if (!dataTable) return;\n",
              "\n",
              "          const docLinkHtml = 'Like what you see? Visit the ' +\n",
              "            '<a target=\"_blank\" href=https://colab.research.google.com/notebooks/data_table.ipynb>data table notebook</a>'\n",
              "            + ' to learn more about interactive tables.';\n",
              "          element.innerHTML = '';\n",
              "          dataTable['output_type'] = 'display_data';\n",
              "          await google.colab.output.renderOutput(dataTable, element);\n",
              "          const docLink = document.createElement('div');\n",
              "          docLink.innerHTML = docLinkHtml;\n",
              "          element.appendChild(docLink);\n",
              "        }\n",
              "      </script>\n",
              "    </div>\n",
              "  </div>\n",
              "  "
            ]
          },
          "metadata": {},
          "execution_count": 6
        }
      ]
    },
    {
      "cell_type": "markdown",
      "source": [
        "### 1.2. Análisis de valores perdidos"
      ],
      "metadata": {
        "id": "bEfxtLxpjl2N"
      }
    },
    {
      "cell_type": "code",
      "source": [
        "total = base.isnull().sum().sort_values(ascending = False)\n",
        "porcentaje = (base.isnull().sum() / base.isnull().count().sort_values(ascending = False))\n",
        "datos_faltantes = pd.concat([total,porcentaje], axis = 1, keys = [\"total\", \"porcentaje\"])\n",
        "\n",
        "print(\"---------------------------------------------\",\n",
        "      \"los datos faltantes del dataset son: \", \n",
        "      total,\n",
        "      \"---------------------------------------------\",\n",
        "      \"el porcentaje de datos faltantes del dataset: \",\n",
        "      datos_faltantes[datos_faltantes[\"total\"]>0], sep = \"\\n\")"
      ],
      "metadata": {
        "colab": {
          "base_uri": "https://localhost:8080/"
        },
        "id": "Us0HFoXadUVO",
        "outputId": "f30ba7f8-ced1-4b87-95fd-da9fc11fc86a"
      },
      "execution_count": null,
      "outputs": [
        {
          "output_type": "stream",
          "name": "stdout",
          "text": [
            "---------------------------------------------\n",
            "los datos faltantes del dataset son: \n",
            "C1EDAD            5067\n",
            "C2_OMI_CAP8       5067\n",
            "PACIENTE_ORDEN    5067\n",
            "C1SEX             5067\n",
            "C2P18             4743\n",
            "                  ... \n",
            "C2P31_3              0\n",
            "C2P31_4              0\n",
            "C2P31_5              0\n",
            "C2P31_6              0\n",
            "C2P67_14             0\n",
            "Length: 270, dtype: int64\n",
            "---------------------------------------------\n",
            "el porcentaje de datos faltantes del dataset: \n",
            "                total  porcentaje\n",
            "C1EDAD           5067    1.000000\n",
            "C2_OMI_CAP8      5067    1.000000\n",
            "PACIENTE_ORDEN   5067    1.000000\n",
            "C1SEX            5067    1.000000\n",
            "C2P18            4743    0.936057\n",
            "C2P57            4169    0.822775\n",
            "C2P38_2          4079    0.805013\n",
            "C2P38_1          4079    0.805013\n",
            "C2P38_4          4079    0.805013\n",
            "C2P38_5          4079    0.805013\n",
            "C2P38_6          4079    0.805013\n",
            "C2P38_7          4079    0.805013\n",
            "C2P38_8          4079    0.805013\n",
            "C2P38_3          4079    0.805013\n",
            "C2P19            3793    0.748569\n",
            "C2P17            3793    0.748569\n",
            "C2P20            3793    0.748569\n",
            "C2P16            3793    0.748569\n",
            "C2P39_8          3673    0.724887\n",
            "C2P39_2          3673    0.724887\n",
            "C2P39_1          3673    0.724887\n",
            "C2P39_5          3673    0.724887\n",
            "C2P39_6          3673    0.724887\n",
            "C2P39_7          3673    0.724887\n",
            "C2P39_4          3673    0.724887\n",
            "C2P39_3          3673    0.724887\n",
            "C2P56            3615    0.713440\n",
            "C2P14            2131    0.420564\n",
            "C2P58_6          1505    0.297020\n",
            "C2P58_4          1505    0.297020\n",
            "C2P58_3          1505    0.297020\n",
            "C2P58_2          1505    0.297020\n",
            "C2P58_1          1505    0.297020\n",
            "C2P55            1505    0.297020\n",
            "C2P58_5          1505    0.297020\n",
            "C2P62            1467    0.289520\n",
            "C2P61            1467    0.289520\n",
            "C2P65_3           939    0.185317\n",
            "C2P66_2           939    0.185317\n",
            "C2P66_7           939    0.185317\n",
            "C2P66_6           939    0.185317\n",
            "C2P66_5           939    0.185317\n",
            "C2P65_4           939    0.185317\n",
            "C2P66_4           939    0.185317\n",
            "C2P66_3           939    0.185317\n",
            "C2P65_2           939    0.185317\n",
            "C2P66_1           939    0.185317\n",
            "C2P65_5           939    0.185317\n",
            "C2P65_6           939    0.185317\n",
            "C2P65_7           939    0.185317\n",
            "C2P65_1           939    0.185317\n",
            "C2DIAFINAL         14    0.002763\n",
            "C2RESULTFINAL      14    0.002763\n",
            "C2ANIOFINAL        14    0.002763\n",
            "C2MESFINAL         14    0.002763\n",
            "C2P9                9    0.001776\n",
            "C2P10               9    0.001776\n"
          ]
        }
      ]
    },
    {
      "cell_type": "markdown",
      "source": [
        "### 1.3 Selección de variables de interés"
      ],
      "metadata": {
        "id": "dS2Ars1Mj1pB"
      }
    },
    {
      "cell_type": "code",
      "source": [
        "###Selección de variables de estudio\n",
        "base1 = base.loc[:, [\"C2P1\",\"C2P4\",\"C2P28\",\"C2P2EDAD\",\"C2P11\",\"C2P9\",\"C2P7\",\"C2P26\",\"C2P27\",\"C2P29\"]]\n"
      ],
      "metadata": {
        "id": "GflY8GGSeSVt"
      },
      "execution_count": null,
      "outputs": []
    },
    {
      "cell_type": "code",
      "source": [
        "#Cambio de nombre de columnas\n",
        "base1 = base1.rename(columns={\"C2P1\":\"Profesión\",\"C2P4\":\"Sexo\",\"C2P28\":\"Ingresos\",\"C2P2EDAD\":\"Edad\",\"C2P11\":\"Universidad_de_estudios\",\"C2P9\":\"Número_de_dependientes\",\"C2P7\":\"Tipo_de_contrato\",\"C2P26\":\"Realiza_labor_docente_adicional\",\"C2P27\":\"Horas_de_trabajo_por_semana\",\"C2P29\":\"Nivel_de_satisfacción\"})"
      ],
      "metadata": {
        "id": "KTrjpD9wigQ8"
      },
      "execution_count": null,
      "outputs": []
    },
    {
      "cell_type": "code",
      "source": [
        "base1.dtypes"
      ],
      "metadata": {
        "colab": {
          "base_uri": "https://localhost:8080/"
        },
        "id": "UuCVEqzjNGU_",
        "outputId": "fc07919c-0c47-489b-8233-96afdadcd7d4"
      },
      "execution_count": null,
      "outputs": [
        {
          "output_type": "execute_result",
          "data": {
            "text/plain": [
              "Profesión                          category\n",
              "Sexo                               category\n",
              "Ingresos                           category\n",
              "Edad                                float64\n",
              "Universidad_de_estudios            category\n",
              "Número_de_dependientes              float64\n",
              "Tipo_de_contrato                   category\n",
              "Realiza_labor_docente_adicional    category\n",
              "Horas_de_trabajo_por_semana         float64\n",
              "Nivel_de_satisfacción              category\n",
              "dtype: object"
            ]
          },
          "metadata": {},
          "execution_count": 10
        }
      ]
    },
    {
      "cell_type": "code",
      "source": [
        "#El análisis se basa solo en médicos por ello realizamos el filtro\n",
        "base1 = base1[base1[\"Profesión\"]==\"Médico\"]"
      ],
      "metadata": {
        "id": "1O8daGbVT-Q4"
      },
      "execution_count": null,
      "outputs": []
    },
    {
      "cell_type": "code",
      "source": [
        "base1.shape"
      ],
      "metadata": {
        "colab": {
          "base_uri": "https://localhost:8080/"
        },
        "id": "VEnvvJ0hpExB",
        "outputId": "177c68be-b889-444c-e918-1660bbd44bf0"
      },
      "execution_count": null,
      "outputs": [
        {
          "output_type": "execute_result",
          "data": {
            "text/plain": [
              "(2219, 10)"
            ]
          },
          "metadata": {},
          "execution_count": 12
        }
      ]
    },
    {
      "cell_type": "code",
      "source": [
        "base1.isnull().sum()"
      ],
      "metadata": {
        "colab": {
          "base_uri": "https://localhost:8080/"
        },
        "id": "SPbAsVh7lM7D",
        "outputId": "7868cdaf-ab74-4672-8b5a-fe8387260669"
      },
      "execution_count": null,
      "outputs": [
        {
          "output_type": "execute_result",
          "data": {
            "text/plain": [
              "Profesión                          0\n",
              "Sexo                               0\n",
              "Ingresos                           0\n",
              "Edad                               0\n",
              "Universidad_de_estudios            0\n",
              "Número_de_dependientes             6\n",
              "Tipo_de_contrato                   0\n",
              "Realiza_labor_docente_adicional    0\n",
              "Horas_de_trabajo_por_semana        0\n",
              "Nivel_de_satisfacción              0\n",
              "dtype: int64"
            ]
          },
          "metadata": {},
          "execution_count": 13
        }
      ]
    },
    {
      "cell_type": "code",
      "source": [
        "#como la cantidad es mímina, se decide eliminar las 6 filas\n",
        "base1 = base1.dropna()"
      ],
      "metadata": {
        "id": "iicz181xmaCP"
      },
      "execution_count": null,
      "outputs": []
    },
    {
      "cell_type": "code",
      "source": [
        "base1.isnull().sum()"
      ],
      "metadata": {
        "colab": {
          "base_uri": "https://localhost:8080/"
        },
        "id": "cwr7cwACmsAw",
        "outputId": "a63014e3-3660-4635-dedb-dfd3b9e9072c"
      },
      "execution_count": null,
      "outputs": [
        {
          "output_type": "execute_result",
          "data": {
            "text/plain": [
              "Profesión                          0\n",
              "Sexo                               0\n",
              "Ingresos                           0\n",
              "Edad                               0\n",
              "Universidad_de_estudios            0\n",
              "Número_de_dependientes             0\n",
              "Tipo_de_contrato                   0\n",
              "Realiza_labor_docente_adicional    0\n",
              "Horas_de_trabajo_por_semana        0\n",
              "Nivel_de_satisfacción              0\n",
              "dtype: int64"
            ]
          },
          "metadata": {},
          "execution_count": 15
        }
      ]
    },
    {
      "cell_type": "code",
      "source": [
        "#cantidad de datos y variables final con las cuales se trabaja\n",
        "base1.shape "
      ],
      "metadata": {
        "colab": {
          "base_uri": "https://localhost:8080/"
        },
        "id": "zKeEhD_NmybL",
        "outputId": "6cf8f278-3c4d-4f74-c2fa-2eab8e0449f4"
      },
      "execution_count": null,
      "outputs": [
        {
          "output_type": "execute_result",
          "data": {
            "text/plain": [
              "(2213, 10)"
            ]
          },
          "metadata": {},
          "execution_count": 16
        }
      ]
    },
    {
      "cell_type": "markdown",
      "source": [
        "## 2. Estadísticos descriptivos"
      ],
      "metadata": {
        "id": "ih2ks5k-jSMG"
      }
    },
    {
      "cell_type": "markdown",
      "source": [
        "### 2.1. Variables cuantitativas"
      ],
      "metadata": {
        "id": "bPoo4BtLxNh_"
      }
    },
    {
      "cell_type": "markdown",
      "source": [
        "#### 2.1.1. variable edad"
      ],
      "metadata": {
        "id": "YzBPMbfKvRQU"
      }
    },
    {
      "cell_type": "code",
      "source": [
        "#Crear la tabla de frecuencia\n",
        "#Calcular la cantidad de intervalos con sturges\n",
        "log_edad = ma.log(base1[\"Edad\"].count(),10)\n",
        "sturges = 1+3.3*log_edad\n",
        "#crear los intervalos\n",
        "base1[\"Edad_interv\"] = pd.cut(base1[\"Edad\"], bins=int(sturges))\n",
        "#crear la tabla de frecuencia\n",
        "tabla_e = (base1\n",
        "  .groupby(\"Edad_interv\") \n",
        "  .agg(frequency=(\"Edad\", \"count\"))) \n",
        "tabla_edad = tabla_e.reset_index() ##quitar indexado y considerarlos como columna\n",
        "tabla_edad[\"Freq_rel\"] = (tabla_edad[\"frequency\"])/(len(base1[\"Edad\"]))\n",
        "tabla_edad"
      ],
      "metadata": {
        "colab": {
          "base_uri": "https://localhost:8080/",
          "height": 426
        },
        "id": "sdTL7-hHeR9z",
        "outputId": "7c1c6adb-b8d2-4490-a5ba-bfad6a81822b"
      },
      "execution_count": null,
      "outputs": [
        {
          "output_type": "execute_result",
          "data": {
            "text/plain": [
              "         Edad_interv  frequency  Freq_rel\n",
              "0   (23.936, 29.333]        123  0.055581\n",
              "1   (29.333, 34.667]        287  0.129688\n",
              "2     (34.667, 40.0]        371  0.167646\n",
              "3     (40.0, 45.333]        291  0.131496\n",
              "4   (45.333, 50.667]        291  0.131496\n",
              "5     (50.667, 56.0]        325  0.146859\n",
              "6     (56.0, 61.333]        298  0.134659\n",
              "7   (61.333, 66.667]        173  0.078174\n",
              "8     (66.667, 72.0]         44  0.019883\n",
              "9     (72.0, 77.333]          5  0.002259\n",
              "10  (77.333, 82.667]          3  0.001356\n",
              "11    (82.667, 88.0]          2  0.000904"
            ],
            "text/html": [
              "\n",
              "  <div id=\"df-00944e41-15a7-43a3-99e3-89ef49d2537b\">\n",
              "    <div class=\"colab-df-container\">\n",
              "      <div>\n",
              "<style scoped>\n",
              "    .dataframe tbody tr th:only-of-type {\n",
              "        vertical-align: middle;\n",
              "    }\n",
              "\n",
              "    .dataframe tbody tr th {\n",
              "        vertical-align: top;\n",
              "    }\n",
              "\n",
              "    .dataframe thead th {\n",
              "        text-align: right;\n",
              "    }\n",
              "</style>\n",
              "<table border=\"1\" class=\"dataframe\">\n",
              "  <thead>\n",
              "    <tr style=\"text-align: right;\">\n",
              "      <th></th>\n",
              "      <th>Edad_interv</th>\n",
              "      <th>frequency</th>\n",
              "      <th>Freq_rel</th>\n",
              "    </tr>\n",
              "  </thead>\n",
              "  <tbody>\n",
              "    <tr>\n",
              "      <th>0</th>\n",
              "      <td>(23.936, 29.333]</td>\n",
              "      <td>123</td>\n",
              "      <td>0.055581</td>\n",
              "    </tr>\n",
              "    <tr>\n",
              "      <th>1</th>\n",
              "      <td>(29.333, 34.667]</td>\n",
              "      <td>287</td>\n",
              "      <td>0.129688</td>\n",
              "    </tr>\n",
              "    <tr>\n",
              "      <th>2</th>\n",
              "      <td>(34.667, 40.0]</td>\n",
              "      <td>371</td>\n",
              "      <td>0.167646</td>\n",
              "    </tr>\n",
              "    <tr>\n",
              "      <th>3</th>\n",
              "      <td>(40.0, 45.333]</td>\n",
              "      <td>291</td>\n",
              "      <td>0.131496</td>\n",
              "    </tr>\n",
              "    <tr>\n",
              "      <th>4</th>\n",
              "      <td>(45.333, 50.667]</td>\n",
              "      <td>291</td>\n",
              "      <td>0.131496</td>\n",
              "    </tr>\n",
              "    <tr>\n",
              "      <th>5</th>\n",
              "      <td>(50.667, 56.0]</td>\n",
              "      <td>325</td>\n",
              "      <td>0.146859</td>\n",
              "    </tr>\n",
              "    <tr>\n",
              "      <th>6</th>\n",
              "      <td>(56.0, 61.333]</td>\n",
              "      <td>298</td>\n",
              "      <td>0.134659</td>\n",
              "    </tr>\n",
              "    <tr>\n",
              "      <th>7</th>\n",
              "      <td>(61.333, 66.667]</td>\n",
              "      <td>173</td>\n",
              "      <td>0.078174</td>\n",
              "    </tr>\n",
              "    <tr>\n",
              "      <th>8</th>\n",
              "      <td>(66.667, 72.0]</td>\n",
              "      <td>44</td>\n",
              "      <td>0.019883</td>\n",
              "    </tr>\n",
              "    <tr>\n",
              "      <th>9</th>\n",
              "      <td>(72.0, 77.333]</td>\n",
              "      <td>5</td>\n",
              "      <td>0.002259</td>\n",
              "    </tr>\n",
              "    <tr>\n",
              "      <th>10</th>\n",
              "      <td>(77.333, 82.667]</td>\n",
              "      <td>3</td>\n",
              "      <td>0.001356</td>\n",
              "    </tr>\n",
              "    <tr>\n",
              "      <th>11</th>\n",
              "      <td>(82.667, 88.0]</td>\n",
              "      <td>2</td>\n",
              "      <td>0.000904</td>\n",
              "    </tr>\n",
              "  </tbody>\n",
              "</table>\n",
              "</div>\n",
              "      <button class=\"colab-df-convert\" onclick=\"convertToInteractive('df-00944e41-15a7-43a3-99e3-89ef49d2537b')\"\n",
              "              title=\"Convert this dataframe to an interactive table.\"\n",
              "              style=\"display:none;\">\n",
              "        \n",
              "  <svg xmlns=\"http://www.w3.org/2000/svg\" height=\"24px\"viewBox=\"0 0 24 24\"\n",
              "       width=\"24px\">\n",
              "    <path d=\"M0 0h24v24H0V0z\" fill=\"none\"/>\n",
              "    <path d=\"M18.56 5.44l.94 2.06.94-2.06 2.06-.94-2.06-.94-.94-2.06-.94 2.06-2.06.94zm-11 1L8.5 8.5l.94-2.06 2.06-.94-2.06-.94L8.5 2.5l-.94 2.06-2.06.94zm10 10l.94 2.06.94-2.06 2.06-.94-2.06-.94-.94-2.06-.94 2.06-2.06.94z\"/><path d=\"M17.41 7.96l-1.37-1.37c-.4-.4-.92-.59-1.43-.59-.52 0-1.04.2-1.43.59L10.3 9.45l-7.72 7.72c-.78.78-.78 2.05 0 2.83L4 21.41c.39.39.9.59 1.41.59.51 0 1.02-.2 1.41-.59l7.78-7.78 2.81-2.81c.8-.78.8-2.07 0-2.86zM5.41 20L4 18.59l7.72-7.72 1.47 1.35L5.41 20z\"/>\n",
              "  </svg>\n",
              "      </button>\n",
              "      \n",
              "  <style>\n",
              "    .colab-df-container {\n",
              "      display:flex;\n",
              "      flex-wrap:wrap;\n",
              "      gap: 12px;\n",
              "    }\n",
              "\n",
              "    .colab-df-convert {\n",
              "      background-color: #E8F0FE;\n",
              "      border: none;\n",
              "      border-radius: 50%;\n",
              "      cursor: pointer;\n",
              "      display: none;\n",
              "      fill: #1967D2;\n",
              "      height: 32px;\n",
              "      padding: 0 0 0 0;\n",
              "      width: 32px;\n",
              "    }\n",
              "\n",
              "    .colab-df-convert:hover {\n",
              "      background-color: #E2EBFA;\n",
              "      box-shadow: 0px 1px 2px rgba(60, 64, 67, 0.3), 0px 1px 3px 1px rgba(60, 64, 67, 0.15);\n",
              "      fill: #174EA6;\n",
              "    }\n",
              "\n",
              "    [theme=dark] .colab-df-convert {\n",
              "      background-color: #3B4455;\n",
              "      fill: #D2E3FC;\n",
              "    }\n",
              "\n",
              "    [theme=dark] .colab-df-convert:hover {\n",
              "      background-color: #434B5C;\n",
              "      box-shadow: 0px 1px 3px 1px rgba(0, 0, 0, 0.15);\n",
              "      filter: drop-shadow(0px 1px 2px rgba(0, 0, 0, 0.3));\n",
              "      fill: #FFFFFF;\n",
              "    }\n",
              "  </style>\n",
              "\n",
              "      <script>\n",
              "        const buttonEl =\n",
              "          document.querySelector('#df-00944e41-15a7-43a3-99e3-89ef49d2537b button.colab-df-convert');\n",
              "        buttonEl.style.display =\n",
              "          google.colab.kernel.accessAllowed ? 'block' : 'none';\n",
              "\n",
              "        async function convertToInteractive(key) {\n",
              "          const element = document.querySelector('#df-00944e41-15a7-43a3-99e3-89ef49d2537b');\n",
              "          const dataTable =\n",
              "            await google.colab.kernel.invokeFunction('convertToInteractive',\n",
              "                                                     [key], {});\n",
              "          if (!dataTable) return;\n",
              "\n",
              "          const docLinkHtml = 'Like what you see? Visit the ' +\n",
              "            '<a target=\"_blank\" href=https://colab.research.google.com/notebooks/data_table.ipynb>data table notebook</a>'\n",
              "            + ' to learn more about interactive tables.';\n",
              "          element.innerHTML = '';\n",
              "          dataTable['output_type'] = 'display_data';\n",
              "          await google.colab.output.renderOutput(dataTable, element);\n",
              "          const docLink = document.createElement('div');\n",
              "          docLink.innerHTML = docLinkHtml;\n",
              "          element.appendChild(docLink);\n",
              "        }\n",
              "      </script>\n",
              "    </div>\n",
              "  </div>\n",
              "  "
            ]
          },
          "metadata": {},
          "execution_count": 17
        }
      ]
    },
    {
      "cell_type": "code",
      "source": [
        "#Gráfico de distribución de frecuecias\n",
        "fig_edad = plt.figure() ##crea el grafico\n",
        "ax = fig_edad.add_subplot(1,1,1) #crea los parametros\n",
        "ax.set_title(\"Gráfico de frecuencia - edad\") #titulo\n",
        "ax.bar(tabla_edad[\"Edad_interv\"].astype(str), tabla_edad[\"Freq_rel\"]) #dibujar las barras\n",
        "ax.set_xticklabels(tabla_edad[\"Edad_interv\"], rotation = 75) #rota las ejes"
      ],
      "metadata": {
        "colab": {
          "base_uri": "https://localhost:8080/",
          "height": 563
        },
        "id": "Y9f6SxryoVLo",
        "outputId": "af6bcaa4-0dec-4d67-ef3c-3116cb6d829b"
      },
      "execution_count": null,
      "outputs": [
        {
          "output_type": "execute_result",
          "data": {
            "text/plain": [
              "[Text(0, 0, '(23.936, 29.333]'),\n",
              " Text(0, 0, '(29.333, 34.667]'),\n",
              " Text(0, 0, '(34.667, 40.0]'),\n",
              " Text(0, 0, '(40.0, 45.333]'),\n",
              " Text(0, 0, '(45.333, 50.667]'),\n",
              " Text(0, 0, '(50.667, 56.0]'),\n",
              " Text(0, 0, '(56.0, 61.333]'),\n",
              " Text(0, 0, '(61.333, 66.667]'),\n",
              " Text(0, 0, '(66.667, 72.0]'),\n",
              " Text(0, 0, '(72.0, 77.333]'),\n",
              " Text(0, 0, '(77.333, 82.667]'),\n",
              " Text(0, 0, '(82.667, 88.0]')]"
            ]
          },
          "metadata": {},
          "execution_count": 18
        },
        {
          "output_type": "display_data",
          "data": {
            "text/plain": [
              "<Figure size 432x288 with 1 Axes>"
            ],
            "image/png": "[encoded data removed]"
          },
          "metadata": {
            "needs_background": "light"
          }
        }
      ]
    },
    {
      "cell_type": "markdown",
      "source": [
        "#### 2.1.2. Variable Número de dependientes"
      ],
      "metadata": {
        "id": "S4nZNOdJwR1X"
      }
    },
    {
      "cell_type": "code",
      "source": [
        "#Crear la tabla de frecuencia\n",
        "#Calcular la cantidad de intervalos con sturges\n",
        "log_nd = ma.log(base1[\"Número_de_dependientes\"].count(),10)\n",
        "sturges_nd = 1+3.3*log_nd\n",
        "#crear los intervalos\n",
        "base1[\"Número_de_dependientes_interv\"] = pd.cut(base1[\"Número_de_dependientes\"], bins=int(sturges_nd))\n",
        "#crear la tabla de frecuencia\n",
        "tabla_nd = (base1\n",
        "  .groupby(\"Número_de_dependientes_interv\") \n",
        "  .agg(frequency=(\"Número_de_dependientes\", \"count\"))) \n",
        "tabla_ndd = tabla_nd.reset_index() ##quitar indexado y considerarlos como columna\n",
        "tabla_ndd[\"Freq_rel\"] = (tabla_ndd[\"frequency\"])/(len(base1[\"Número_de_dependientes\"]))\n",
        "tabla_ndd"
      ],
      "metadata": {
        "colab": {
          "base_uri": "https://localhost:8080/",
          "height": 426
        },
        "id": "ZN0Q0RVebz_w",
        "outputId": "6b2f86e1-b492-49dd-c814-ce03dd9f5bb6"
      },
      "execution_count": null,
      "outputs": [
        {
          "output_type": "execute_result",
          "data": {
            "text/plain": [
              "   Número_de_dependientes_interv  frequency  Freq_rel\n",
              "0                  (-0.012, 1.0]        596  0.269318\n",
              "1                     (1.0, 2.0]        557  0.251695\n",
              "2                     (2.0, 3.0]        537  0.242657\n",
              "3                     (3.0, 4.0]        304  0.137370\n",
              "4                     (4.0, 5.0]        132  0.059648\n",
              "5                     (5.0, 6.0]         56  0.025305\n",
              "6                     (6.0, 7.0]          9  0.004067\n",
              "7                     (7.0, 8.0]         16  0.007230\n",
              "8                     (8.0, 9.0]          1  0.000452\n",
              "9                    (9.0, 10.0]          4  0.001808\n",
              "10                  (10.0, 11.0]          0  0.000000\n",
              "11                  (11.0, 12.0]          1  0.000452"
            ],
            "text/html": [
              "\n",
              "  <div id=\"df-52868154-b76f-4724-8f1c-a78f55b72928\">\n",
              "    <div class=\"colab-df-container\">\n",
              "      <div>\n",
              "<style scoped>\n",
              "    .dataframe tbody tr th:only-of-type {\n",
              "        vertical-align: middle;\n",
              "    }\n",
              "\n",
              "    .dataframe tbody tr th {\n",
              "        vertical-align: top;\n",
              "    }\n",
              "\n",
              "    .dataframe thead th {\n",
              "        text-align: right;\n",
              "    }\n",
              "</style>\n",
              "<table border=\"1\" class=\"dataframe\">\n",
              "  <thead>\n",
              "    <tr style=\"text-align: right;\">\n",
              "      <th></th>\n",
              "      <th>Número_de_dependientes_interv</th>\n",
              "      <th>frequency</th>\n",
              "      <th>Freq_rel</th>\n",
              "    </tr>\n",
              "  </thead>\n",
              "  <tbody>\n",
              "    <tr>\n",
              "      <th>0</th>\n",
              "      <td>(-0.012, 1.0]</td>\n",
              "      <td>596</td>\n",
              "      <td>0.269318</td>\n",
              "    </tr>\n",
              "    <tr>\n",
              "      <th>1</th>\n",
              "      <td>(1.0, 2.0]</td>\n",
              "      <td>557</td>\n",
              "      <td>0.251695</td>\n",
              "    </tr>\n",
              "    <tr>\n",
              "      <th>2</th>\n",
              "      <td>(2.0, 3.0]</td>\n",
              "      <td>537</td>\n",
              "      <td>0.242657</td>\n",
              "    </tr>\n",
              "    <tr>\n",
              "      <th>3</th>\n",
              "      <td>(3.0, 4.0]</td>\n",
              "      <td>304</td>\n",
              "      <td>0.137370</td>\n",
              "    </tr>\n",
              "    <tr>\n",
              "      <th>4</th>\n",
              "      <td>(4.0, 5.0]</td>\n",
              "      <td>132</td>\n",
              "      <td>0.059648</td>\n",
              "    </tr>\n",
              "    <tr>\n",
              "      <th>5</th>\n",
              "      <td>(5.0, 6.0]</td>\n",
              "      <td>56</td>\n",
              "      <td>0.025305</td>\n",
              "    </tr>\n",
              "    <tr>\n",
              "      <th>6</th>\n",
              "      <td>(6.0, 7.0]</td>\n",
              "      <td>9</td>\n",
              "      <td>0.004067</td>\n",
              "    </tr>\n",
              "    <tr>\n",
              "      <th>7</th>\n",
              "      <td>(7.0, 8.0]</td>\n",
              "      <td>16</td>\n",
              "      <td>0.007230</td>\n",
              "    </tr>\n",
              "    <tr>\n",
              "      <th>8</th>\n",
              "      <td>(8.0, 9.0]</td>\n",
              "      <td>1</td>\n",
              "      <td>0.000452</td>\n",
              "    </tr>\n",
              "    <tr>\n",
              "      <th>9</th>\n",
              "      <td>(9.0, 10.0]</td>\n",
              "      <td>4</td>\n",
              "      <td>0.001808</td>\n",
              "    </tr>\n",
              "    <tr>\n",
              "      <th>10</th>\n",
              "      <td>(10.0, 11.0]</td>\n",
              "      <td>0</td>\n",
              "      <td>0.000000</td>\n",
              "    </tr>\n",
              "    <tr>\n",
              "      <th>11</th>\n",
              "      <td>(11.0, 12.0]</td>\n",
              "      <td>1</td>\n",
              "      <td>0.000452</td>\n",
              "    </tr>\n",
              "  </tbody>\n",
              "</table>\n",
              "</div>\n",
              "      <button class=\"colab-df-convert\" onclick=\"convertToInteractive('df-52868154-b76f-4724-8f1c-a78f55b72928')\"\n",
              "              title=\"Convert this dataframe to an interactive table.\"\n",
              "              style=\"display:none;\">\n",
              "        \n",
              "  <svg xmlns=\"http://www.w3.org/2000/svg\" height=\"24px\"viewBox=\"0 0 24 24\"\n",
              "       width=\"24px\">\n",
              "    <path d=\"M0 0h24v24H0V0z\" fill=\"none\"/>\n",
              "    <path d=\"M18.56 5.44l.94 2.06.94-2.06 2.06-.94-2.06-.94-.94-2.06-.94 2.06-2.06.94zm-11 1L8.5 8.5l.94-2.06 2.06-.94-2.06-.94L8.5 2.5l-.94 2.06-2.06.94zm10 10l.94 2.06.94-2.06 2.06-.94-2.06-.94-.94-2.06-.94 2.06-2.06.94z\"/><path d=\"M17.41 7.96l-1.37-1.37c-.4-.4-.92-.59-1.43-.59-.52 0-1.04.2-1.43.59L10.3 9.45l-7.72 7.72c-.78.78-.78 2.05 0 2.83L4 21.41c.39.39.9.59 1.41.59.51 0 1.02-.2 1.41-.59l7.78-7.78 2.81-2.81c.8-.78.8-2.07 0-2.86zM5.41 20L4 18.59l7.72-7.72 1.47 1.35L5.41 20z\"/>\n",
              "  </svg>\n",
              "      </button>\n",
              "      \n",
              "  <style>\n",
              "    .colab-df-container {\n",
              "      display:flex;\n",
              "      flex-wrap:wrap;\n",
              "      gap: 12px;\n",
              "    }\n",
              "\n",
              "    .colab-df-convert {\n",
              "      background-color: #E8F0FE;\n",
              "      border: none;\n",
              "      border-radius: 50%;\n",
              "      cursor: pointer;\n",
              "      display: none;\n",
              "      fill: #1967D2;\n",
              "      height: 32px;\n",
              "      padding: 0 0 0 0;\n",
              "      width: 32px;\n",
              "    }\n",
              "\n",
              "    .colab-df-convert:hover {\n",
              "      background-color: #E2EBFA;\n",
              "      box-shadow: 0px 1px 2px rgba(60, 64, 67, 0.3), 0px 1px 3px 1px rgba(60, 64, 67, 0.15);\n",
              "      fill: #174EA6;\n",
              "    }\n",
              "\n",
              "    [theme=dark] .colab-df-convert {\n",
              "      background-color: #3B4455;\n",
              "      fill: #D2E3FC;\n",
              "    }\n",
              "\n",
              "    [theme=dark] .colab-df-convert:hover {\n",
              "      background-color: #434B5C;\n",
              "      box-shadow: 0px 1px 3px 1px rgba(0, 0, 0, 0.15);\n",
              "      filter: drop-shadow(0px 1px 2px rgba(0, 0, 0, 0.3));\n",
              "      fill: #FFFFFF;\n",
              "    }\n",
              "  </style>\n",
              "\n",
              "      <script>\n",
              "        const buttonEl =\n",
              "          document.querySelector('#df-52868154-b76f-4724-8f1c-a78f55b72928 button.colab-df-convert');\n",
              "        buttonEl.style.display =\n",
              "          google.colab.kernel.accessAllowed ? 'block' : 'none';\n",
              "\n",
              "        async function convertToInteractive(key) {\n",
              "          const element = document.querySelector('#df-52868154-b76f-4724-8f1c-a78f55b72928');\n",
              "          const dataTable =\n",
              "            await google.colab.kernel.invokeFunction('convertToInteractive',\n",
              "                                                     [key], {});\n",
              "          if (!dataTable) return;\n",
              "\n",
              "          const docLinkHtml = 'Like what you see? Visit the ' +\n",
              "            '<a target=\"_blank\" href=https://colab.research.google.com/notebooks/data_table.ipynb>data table notebook</a>'\n",
              "            + ' to learn more about interactive tables.';\n",
              "          element.innerHTML = '';\n",
              "          dataTable['output_type'] = 'display_data';\n",
              "          await google.colab.output.renderOutput(dataTable, element);\n",
              "          const docLink = document.createElement('div');\n",
              "          docLink.innerHTML = docLinkHtml;\n",
              "          element.appendChild(docLink);\n",
              "        }\n",
              "      </script>\n",
              "    </div>\n",
              "  </div>\n",
              "  "
            ]
          },
          "metadata": {},
          "execution_count": 19
        }
      ]
    },
    {
      "cell_type": "code",
      "source": [
        "#Gráfico de distribución de frecuecias\n",
        "fig_ndd = plt.figure() ##crea el grafico\n",
        "ax = fig_ndd.add_subplot(1,1,1) #crea los parametros\n",
        "ax.set_title(\"Gráfico de frecuencia - Número de dependientes\") #titulo\n",
        "ax.bar(tabla_ndd[\"Número_de_dependientes_interv\"].astype(str), tabla_ndd[\"Freq_rel\"]) #dibujar las barras\n",
        "ax.set_xticklabels(tabla_ndd[\"Número_de_dependientes_interv\"], rotation = 75) #rota las ejes"
      ],
      "metadata": {
        "colab": {
          "base_uri": "https://localhost:8080/",
          "height": 542
        },
        "id": "rwLVXakmee5D",
        "outputId": "0cde55b2-e2d1-49fa-fb0c-45a87ce5ba76"
      },
      "execution_count": null,
      "outputs": [
        {
          "output_type": "execute_result",
          "data": {
            "text/plain": [
              "[Text(0, 0, '(-0.012, 1.0]'),\n",
              " Text(0, 0, '(1.0, 2.0]'),\n",
              " Text(0, 0, '(2.0, 3.0]'),\n",
              " Text(0, 0, '(3.0, 4.0]'),\n",
              " Text(0, 0, '(4.0, 5.0]'),\n",
              " Text(0, 0, '(5.0, 6.0]'),\n",
              " Text(0, 0, '(6.0, 7.0]'),\n",
              " Text(0, 0, '(7.0, 8.0]'),\n",
              " Text(0, 0, '(8.0, 9.0]'),\n",
              " Text(0, 0, '(9.0, 10.0]'),\n",
              " Text(0, 0, '(10.0, 11.0]'),\n",
              " Text(0, 0, '(11.0, 12.0]')]"
            ]
          },
          "metadata": {},
          "execution_count": 20
        },
        {
          "output_type": "display_data",
          "data": {
            "text/plain": [
              "<Figure size 432x288 with 1 Axes>"
            ],
            "image/png": "[encoded data removed]"
          },
          "metadata": {
            "needs_background": "light"
          }
        }
      ]
    },
    {
      "cell_type": "markdown",
      "source": [
        "#### 2.1.3. Variable Horas de trabajo por semana"
      ],
      "metadata": {
        "id": "_kpQx6rYwqwh"
      }
    },
    {
      "cell_type": "code",
      "source": [
        "#Crear la tabla de frecuencia\n",
        "#Calcular la cantidad de intervalos con sturges\n",
        "log_ht = ma.log(base1[\"Horas_de_trabajo_por_semana\"].count(),10)\n",
        "sturges_ht = 1+3.3*log_ht\n",
        "#crear los intervalos\n",
        "base1[\"Horas_de_trabajo_por_semana_interv\"] = pd.cut(base1[\"Horas_de_trabajo_por_semana\"], bins=int(sturges_ht))\n",
        "#crear la tabla de frecuencia\n",
        "tabla_ht = (base1\n",
        "  .groupby(\"Horas_de_trabajo_por_semana_interv\") \n",
        "  .agg(frequency=(\"Horas_de_trabajo_por_semana\", \"count\"))) \n",
        "tabla_hts = tabla_ht.reset_index() ##quitar indexado y considerarlos como columna\n",
        "tabla_hts[\"Freq_rel\"] = (tabla_hts[\"frequency\"])/(len(base1[\"Horas_de_trabajo_por_semana\"]))\n",
        "tabla_hts"
      ],
      "metadata": {
        "colab": {
          "base_uri": "https://localhost:8080/",
          "height": 426
        },
        "id": "A3hWsLYZfFCQ",
        "outputId": "f0993209-f78a-46f0-9ab1-7e53f5efb8c1"
      },
      "execution_count": null,
      "outputs": [
        {
          "output_type": "execute_result",
          "data": {
            "text/plain": [
              "   Horas_de_trabajo_por_semana_interv  frequency  Freq_rel\n",
              "0                     (1.872, 12.667]          9  0.004067\n",
              "1                    (12.667, 23.333]          6  0.002711\n",
              "2                      (23.333, 34.0]         23  0.010393\n",
              "3                      (34.0, 44.667]        815  0.368278\n",
              "4                    (44.667, 55.333]        584  0.263895\n",
              "5                      (55.333, 66.0]        435  0.196566\n",
              "6                      (66.0, 76.667]        218  0.098509\n",
              "7                    (76.667, 87.333]         74  0.033439\n",
              "8                      (87.333, 98.0]         26  0.011749\n",
              "9                     (98.0, 108.667]         12  0.005423\n",
              "10                 (108.667, 119.333]          3  0.001356\n",
              "11                   (119.333, 130.0]          8  0.003615"
            ],
            "text/html": [
              "\n",
              "  <div id=\"df-8b9edd7a-800d-4892-bc14-8e340d22ddea\">\n",
              "    <div class=\"colab-df-container\">\n",
              "      <div>\n",
              "<style scoped>\n",
              "    .dataframe tbody tr th:only-of-type {\n",
              "        vertical-align: middle;\n",
              "    }\n",
              "\n",
              "    .dataframe tbody tr th {\n",
              "        vertical-align: top;\n",
              "    }\n",
              "\n",
              "    .dataframe thead th {\n",
              "        text-align: right;\n",
              "    }\n",
              "</style>\n",
              "<table border=\"1\" class=\"dataframe\">\n",
              "  <thead>\n",
              "    <tr style=\"text-align: right;\">\n",
              "      <th></th>\n",
              "      <th>Horas_de_trabajo_por_semana_interv</th>\n",
              "      <th>frequency</th>\n",
              "      <th>Freq_rel</th>\n",
              "    </tr>\n",
              "  </thead>\n",
              "  <tbody>\n",
              "    <tr>\n",
              "      <th>0</th>\n",
              "      <td>(1.872, 12.667]</td>\n",
              "      <td>9</td>\n",
              "      <td>0.004067</td>\n",
              "    </tr>\n",
              "    <tr>\n",
              "      <th>1</th>\n",
              "      <td>(12.667, 23.333]</td>\n",
              "      <td>6</td>\n",
              "      <td>0.002711</td>\n",
              "    </tr>\n",
              "    <tr>\n",
              "      <th>2</th>\n",
              "      <td>(23.333, 34.0]</td>\n",
              "      <td>23</td>\n",
              "      <td>0.010393</td>\n",
              "    </tr>\n",
              "    <tr>\n",
              "      <th>3</th>\n",
              "      <td>(34.0, 44.667]</td>\n",
              "      <td>815</td>\n",
              "      <td>0.368278</td>\n",
              "    </tr>\n",
              "    <tr>\n",
              "      <th>4</th>\n",
              "      <td>(44.667, 55.333]</td>\n",
              "      <td>584</td>\n",
              "      <td>0.263895</td>\n",
              "    </tr>\n",
              "    <tr>\n",
              "      <th>5</th>\n",
              "      <td>(55.333, 66.0]</td>\n",
              "      <td>435</td>\n",
              "      <td>0.196566</td>\n",
              "    </tr>\n",
              "    <tr>\n",
              "      <th>6</th>\n",
              "      <td>(66.0, 76.667]</td>\n",
              "      <td>218</td>\n",
              "      <td>0.098509</td>\n",
              "    </tr>\n",
              "    <tr>\n",
              "      <th>7</th>\n",
              "      <td>(76.667, 87.333]</td>\n",
              "      <td>74</td>\n",
              "      <td>0.033439</td>\n",
              "    </tr>\n",
              "    <tr>\n",
              "      <th>8</th>\n",
              "      <td>(87.333, 98.0]</td>\n",
              "      <td>26</td>\n",
              "      <td>0.011749</td>\n",
              "    </tr>\n",
              "    <tr>\n",
              "      <th>9</th>\n",
              "      <td>(98.0, 108.667]</td>\n",
              "      <td>12</td>\n",
              "      <td>0.005423</td>\n",
              "    </tr>\n",
              "    <tr>\n",
              "      <th>10</th>\n",
              "      <td>(108.667, 119.333]</td>\n",
              "      <td>3</td>\n",
              "      <td>0.001356</td>\n",
              "    </tr>\n",
              "    <tr>\n",
              "      <th>11</th>\n",
              "      <td>(119.333, 130.0]</td>\n",
              "      <td>8</td>\n",
              "      <td>0.003615</td>\n",
              "    </tr>\n",
              "  </tbody>\n",
              "</table>\n",
              "</div>\n",
              "      <button class=\"colab-df-convert\" onclick=\"convertToInteractive('df-8b9edd7a-800d-4892-bc14-8e340d22ddea')\"\n",
              "              title=\"Convert this dataframe to an interactive table.\"\n",
              "              style=\"display:none;\">\n",
              "        \n",
              "  <svg xmlns=\"http://www.w3.org/2000/svg\" height=\"24px\"viewBox=\"0 0 24 24\"\n",
              "       width=\"24px\">\n",
              "    <path d=\"M0 0h24v24H0V0z\" fill=\"none\"/>\n",
              "    <path d=\"M18.56 5.44l.94 2.06.94-2.06 2.06-.94-2.06-.94-.94-2.06-.94 2.06-2.06.94zm-11 1L8.5 8.5l.94-2.06 2.06-.94-2.06-.94L8.5 2.5l-.94 2.06-2.06.94zm10 10l.94 2.06.94-2.06 2.06-.94-2.06-.94-.94-2.06-.94 2.06-2.06.94z\"/><path d=\"M17.41 7.96l-1.37-1.37c-.4-.4-.92-.59-1.43-.59-.52 0-1.04.2-1.43.59L10.3 9.45l-7.72 7.72c-.78.78-.78 2.05 0 2.83L4 21.41c.39.39.9.59 1.41.59.51 0 1.02-.2 1.41-.59l7.78-7.78 2.81-2.81c.8-.78.8-2.07 0-2.86zM5.41 20L4 18.59l7.72-7.72 1.47 1.35L5.41 20z\"/>\n",
              "  </svg>\n",
              "      </button>\n",
              "      \n",
              "  <style>\n",
              "    .colab-df-container {\n",
              "      display:flex;\n",
              "      flex-wrap:wrap;\n",
              "      gap: 12px;\n",
              "    }\n",
              "\n",
              "    .colab-df-convert {\n",
              "      background-color: #E8F0FE;\n",
              "      border: none;\n",
              "      border-radius: 50%;\n",
              "      cursor: pointer;\n",
              "      display: none;\n",
              "      fill: #1967D2;\n",
              "      height: 32px;\n",
              "      padding: 0 0 0 0;\n",
              "      width: 32px;\n",
              "    }\n",
              "\n",
              "    .colab-df-convert:hover {\n",
              "      background-color: #E2EBFA;\n",
              "      box-shadow: 0px 1px 2px rgba(60, 64, 67, 0.3), 0px 1px 3px 1px rgba(60, 64, 67, 0.15);\n",
              "      fill: #174EA6;\n",
              "    }\n",
              "\n",
              "    [theme=dark] .colab-df-convert {\n",
              "      background-color: #3B4455;\n",
              "      fill: #D2E3FC;\n",
              "    }\n",
              "\n",
              "    [theme=dark] .colab-df-convert:hover {\n",
              "      background-color: #434B5C;\n",
              "      box-shadow: 0px 1px 3px 1px rgba(0, 0, 0, 0.15);\n",
              "      filter: drop-shadow(0px 1px 2px rgba(0, 0, 0, 0.3));\n",
              "      fill: #FFFFFF;\n",
              "    }\n",
              "  </style>\n",
              "\n",
              "      <script>\n",
              "        const buttonEl =\n",
              "          document.querySelector('#df-8b9edd7a-800d-4892-bc14-8e340d22ddea button.colab-df-convert');\n",
              "        buttonEl.style.display =\n",
              "          google.colab.kernel.accessAllowed ? 'block' : 'none';\n",
              "\n",
              "        async function convertToInteractive(key) {\n",
              "          const element = document.querySelector('#df-8b9edd7a-800d-4892-bc14-8e340d22ddea');\n",
              "          const dataTable =\n",
              "            await google.colab.kernel.invokeFunction('convertToInteractive',\n",
              "                                                     [key], {});\n",
              "          if (!dataTable) return;\n",
              "\n",
              "          const docLinkHtml = 'Like what you see? Visit the ' +\n",
              "            '<a target=\"_blank\" href=https://colab.research.google.com/notebooks/data_table.ipynb>data table notebook</a>'\n",
              "            + ' to learn more about interactive tables.';\n",
              "          element.innerHTML = '';\n",
              "          dataTable['output_type'] = 'display_data';\n",
              "          await google.colab.output.renderOutput(dataTable, element);\n",
              "          const docLink = document.createElement('div');\n",
              "          docLink.innerHTML = docLinkHtml;\n",
              "          element.appendChild(docLink);\n",
              "        }\n",
              "      </script>\n",
              "    </div>\n",
              "  </div>\n",
              "  "
            ]
          },
          "metadata": {},
          "execution_count": 21
        }
      ]
    },
    {
      "cell_type": "code",
      "source": [
        "#Gráfico de distribución de frecuecias\n",
        "fig_hts = plt.figure() ##crea el grafico\n",
        "ax = fig_hts.add_subplot(1,1,1) #crea los parametros\n",
        "ax.set_title(\"Gráfico de frecuencia - Horas_de_trabajo_por_semana\") #titulo\n",
        "ax.bar(tabla_hts[\"Horas_de_trabajo_por_semana_interv\"].astype(str), tabla_hts[\"Freq_rel\"]) #dibujar las barras\n",
        "ax.set_xticklabels(tabla_hts[\"Horas_de_trabajo_por_semana_interv\"], rotation = 75) #rota las ejes"
      ],
      "metadata": {
        "colab": {
          "base_uri": "https://localhost:8080/",
          "height": 575
        },
        "id": "ScRuUnxwfitB",
        "outputId": "7ef14f14-d2d6-41c0-8198-ca5e5ea987f5"
      },
      "execution_count": null,
      "outputs": [
        {
          "output_type": "execute_result",
          "data": {
            "text/plain": [
              "[Text(0, 0, '(1.872, 12.667]'),\n",
              " Text(0, 0, '(12.667, 23.333]'),\n",
              " Text(0, 0, '(23.333, 34.0]'),\n",
              " Text(0, 0, '(34.0, 44.667]'),\n",
              " Text(0, 0, '(44.667, 55.333]'),\n",
              " Text(0, 0, '(55.333, 66.0]'),\n",
              " Text(0, 0, '(66.0, 76.667]'),\n",
              " Text(0, 0, '(76.667, 87.333]'),\n",
              " Text(0, 0, '(87.333, 98.0]'),\n",
              " Text(0, 0, '(98.0, 108.667]'),\n",
              " Text(0, 0, '(108.667, 119.333]'),\n",
              " Text(0, 0, '(119.333, 130.0]')]"
            ]
          },
          "metadata": {},
          "execution_count": 22
        },
        {
          "output_type": "display_data",
          "data": {
            "text/plain": [
              "<Figure size 432x288 with 1 Axes>"
            ],
            "image/png": "[encoded data removed]"
          },
          "metadata": {
            "needs_background": "light"
          }
        }
      ]
    },
    {
      "cell_type": "markdown",
      "source": [
        "### 2.2. Variables cualitativas"
      ],
      "metadata": {
        "id": "dOUpVnQAxb-_"
      }
    },
    {
      "cell_type": "markdown",
      "source": [
        "#### instalar paquete para crear tablas de frecuencia"
      ],
      "metadata": {
        "id": "m_oEf0cYhHZO"
      }
    },
    {
      "cell_type": "code",
      "source": [
        "#instalar sidetable, crea tabla de frecuencia para datos no agrupados\n",
        "%pip install sidetable \n"
      ],
      "metadata": {
        "colab": {
          "base_uri": "https://localhost:8080/"
        },
        "id": "trNwQbI2Y4TC",
        "outputId": "dc31dd3b-c135-459d-ad50-6b31d5c1be2a"
      },
      "execution_count": null,
      "outputs": [
        {
          "output_type": "stream",
          "name": "stdout",
          "text": [
            "Looking in indexes: https://pypi.org/simple, https://us-python.pkg.dev/colab-wheels/public/simple/\n",
            "Requirement already satisfied: sidetable in /usr/local/lib/python3.8/dist-packages (0.9.1)\n",
            "Requirement already satisfied: pandas>=1.0 in /usr/local/lib/python3.8/dist-packages (from sidetable) (1.3.5)\n",
            "Requirement already satisfied: pytz>=2017.3 in /usr/local/lib/python3.8/dist-packages (from pandas>=1.0->sidetable) (2022.7)\n",
            "Requirement already satisfied: python-dateutil>=2.7.3 in /usr/local/lib/python3.8/dist-packages (from pandas>=1.0->sidetable) (2.8.2)\n",
            "Requirement already satisfied: numpy>=1.17.3 in /usr/local/lib/python3.8/dist-packages (from pandas>=1.0->sidetable) (1.21.6)\n",
            "Requirement already satisfied: six>=1.5 in /usr/local/lib/python3.8/dist-packages (from python-dateutil>=2.7.3->pandas>=1.0->sidetable) (1.15.0)\n"
          ]
        }
      ]
    },
    {
      "cell_type": "code",
      "source": [
        "#importar la funcion sidetable\n",
        "import sidetable\n"
      ],
      "metadata": {
        "id": "NbfoI-dOZmef"
      },
      "execution_count": null,
      "outputs": []
    },
    {
      "cell_type": "markdown",
      "source": [
        "#### 2.2.1. Variable Sexo"
      ],
      "metadata": {
        "id": "zpYy3T7YvcBx"
      }
    },
    {
      "cell_type": "code",
      "source": [
        "#TABLA DE FRECUENCIA\n",
        "#forma 2 con sidetable\n",
        "tabla_s = base1.stb.freq(['Sexo'])\n",
        "tabla_sexo = pd.DataFrame(tabla_s)\n",
        "tabla_sexo"
      ],
      "metadata": {
        "colab": {
          "base_uri": "https://localhost:8080/"
        },
        "id": "bD-cfBCNdadZ",
        "outputId": "a97a4c51-a4eb-4b4f-c8d9-cd576e219c0d"
      },
      "execution_count": null,
      "outputs": [
        {
          "output_type": "execute_result",
          "data": {
            "text/plain": [
              "     Sexo  count    percent  cumulative_count  cumulative_percent\n",
              "0  Hombre   1653  74.694984              1653           74.694984\n",
              "1   Mujer    560  25.305016              2213          100.000000"
            ],
            "text/html": [
              "\n",
              "  <div id=\"df-7103f19a-32e0-469b-a149-053f19ec797b\">\n",
              "    <div class=\"colab-df-container\">\n",
              "      <div>\n",
              "<style scoped>\n",
              "    .dataframe tbody tr th:only-of-type {\n",
              "        vertical-align: middle;\n",
              "    }\n",
              "\n",
              "    .dataframe tbody tr th {\n",
              "        vertical-align: top;\n",
              "    }\n",
              "\n",
              "    .dataframe thead th {\n",
              "        text-align: right;\n",
              "    }\n",
              "</style>\n",
              "<table border=\"1\" class=\"dataframe\">\n",
              "  <thead>\n",
              "    <tr style=\"text-align: right;\">\n",
              "      <th></th>\n",
              "      <th>Sexo</th>\n",
              "      <th>count</th>\n",
              "      <th>percent</th>\n",
              "      <th>cumulative_count</th>\n",
              "      <th>cumulative_percent</th>\n",
              "    </tr>\n",
              "  </thead>\n",
              "  <tbody>\n",
              "    <tr>\n",
              "      <th>0</th>\n",
              "      <td>Hombre</td>\n",
              "      <td>1653</td>\n",
              "      <td>74.694984</td>\n",
              "      <td>1653</td>\n",
              "      <td>74.694984</td>\n",
              "    </tr>\n",
              "    <tr>\n",
              "      <th>1</th>\n",
              "      <td>Mujer</td>\n",
              "      <td>560</td>\n",
              "      <td>25.305016</td>\n",
              "      <td>2213</td>\n",
              "      <td>100.000000</td>\n",
              "    </tr>\n",
              "  </tbody>\n",
              "</table>\n",
              "</div>\n",
              "      <button class=\"colab-df-convert\" onclick=\"convertToInteractive('df-7103f19a-32e0-469b-a149-053f19ec797b')\"\n",
              "              title=\"Convert this dataframe to an interactive table.\"\n",
              "              style=\"display:none;\">\n",
              "        \n",
              "  <svg xmlns=\"http://www.w3.org/2000/svg\" height=\"24px\"viewBox=\"0 0 24 24\"\n",
              "       width=\"24px\">\n",
              "    <path d=\"M0 0h24v24H0V0z\" fill=\"none\"/>\n",
              "    <path d=\"M18.56 5.44l.94 2.06.94-2.06 2.06-.94-2.06-.94-.94-2.06-.94 2.06-2.06.94zm-11 1L8.5 8.5l.94-2.06 2.06-.94-2.06-.94L8.5 2.5l-.94 2.06-2.06.94zm10 10l.94 2.06.94-2.06 2.06-.94-2.06-.94-.94-2.06-.94 2.06-2.06.94z\"/><path d=\"M17.41 7.96l-1.37-1.37c-.4-.4-.92-.59-1.43-.59-.52 0-1.04.2-1.43.59L10.3 9.45l-7.72 7.72c-.78.78-.78 2.05 0 2.83L4 21.41c.39.39.9.59 1.41.59.51 0 1.02-.2 1.41-.59l7.78-7.78 2.81-2.81c.8-.78.8-2.07 0-2.86zM5.41 20L4 18.59l7.72-7.72 1.47 1.35L5.41 20z\"/>\n",
              "  </svg>\n",
              "      </button>\n",
              "      \n",
              "  <style>\n",
              "    .colab-df-container {\n",
              "      display:flex;\n",
              "      flex-wrap:wrap;\n",
              "      gap: 12px;\n",
              "    }\n",
              "\n",
              "    .colab-df-convert {\n",
              "      background-color: #E8F0FE;\n",
              "      border: none;\n",
              "      border-radius: 50%;\n",
              "      cursor: pointer;\n",
              "      display: none;\n",
              "      fill: #1967D2;\n",
              "      height: 32px;\n",
              "      padding: 0 0 0 0;\n",
              "      width: 32px;\n",
              "    }\n",
              "\n",
              "    .colab-df-convert:hover {\n",
              "      background-color: #E2EBFA;\n",
              "      box-shadow: 0px 1px 2px rgba(60, 64, 67, 0.3), 0px 1px 3px 1px rgba(60, 64, 67, 0.15);\n",
              "      fill: #174EA6;\n",
              "    }\n",
              "\n",
              "    [theme=dark] .colab-df-convert {\n",
              "      background-color: #3B4455;\n",
              "      fill: #D2E3FC;\n",
              "    }\n",
              "\n",
              "    [theme=dark] .colab-df-convert:hover {\n",
              "      background-color: #434B5C;\n",
              "      box-shadow: 0px 1px 3px 1px rgba(0, 0, 0, 0.15);\n",
              "      filter: drop-shadow(0px 1px 2px rgba(0, 0, 0, 0.3));\n",
              "      fill: #FFFFFF;\n",
              "    }\n",
              "  </style>\n",
              "\n",
              "      <script>\n",
              "        const buttonEl =\n",
              "          document.querySelector('#df-7103f19a-32e0-469b-a149-053f19ec797b button.colab-df-convert');\n",
              "        buttonEl.style.display =\n",
              "          google.colab.kernel.accessAllowed ? 'block' : 'none';\n",
              "\n",
              "        async function convertToInteractive(key) {\n",
              "          const element = document.querySelector('#df-7103f19a-32e0-469b-a149-053f19ec797b');\n",
              "          const dataTable =\n",
              "            await google.colab.kernel.invokeFunction('convertToInteractive',\n",
              "                                                     [key], {});\n",
              "          if (!dataTable) return;\n",
              "\n",
              "          const docLinkHtml = 'Like what you see? Visit the ' +\n",
              "            '<a target=\"_blank\" href=https://colab.research.google.com/notebooks/data_table.ipynb>data table notebook</a>'\n",
              "            + ' to learn more about interactive tables.';\n",
              "          element.innerHTML = '';\n",
              "          dataTable['output_type'] = 'display_data';\n",
              "          await google.colab.output.renderOutput(dataTable, element);\n",
              "          const docLink = document.createElement('div');\n",
              "          docLink.innerHTML = docLinkHtml;\n",
              "          element.appendChild(docLink);\n",
              "        }\n",
              "      </script>\n",
              "    </div>\n",
              "  </div>\n",
              "  "
            ]
          },
          "metadata": {},
          "execution_count": 37
        }
      ]
    },
    {
      "cell_type": "code",
      "source": [
        "plt.pie(  tabla_sexo[\"count\"], labels = tabla_sexo[\"Sexo\"].astype(str))"
      ],
      "metadata": {
        "colab": {
          "base_uri": "https://localhost:8080/"
        },
        "id": "xRmYNndDhkYA",
        "outputId": "34f97d31-e56f-4e30-ebc2-69ba6dfda4ed"
      },
      "execution_count": null,
      "outputs": [
        {
          "output_type": "execute_result",
          "data": {
            "text/plain": [
              "([<matplotlib.patches.Wedge at 0x7ff55d484100>,\n",
              "  <matplotlib.patches.Wedge at 0x7ff55d4845b0>],\n",
              " [Text(-0.7703285647066265, 0.7852349345240754, 'Hombre'),\n",
              "  Text(0.7703285647066264, -0.7852349345240756, 'Mujer')])"
            ]
          },
          "metadata": {},
          "execution_count": 38
        },
        {
          "output_type": "display_data",
          "data": {
            "text/plain": [
              "<Figure size 432x288 with 1 Axes>"
            ],
            "image/png": "[encoded data removed]"
          },
          "metadata": {}
        }
      ]
    },
    {
      "cell_type": "markdown",
      "source": [
        "#### 2.2.2. Variable Ingresos"
      ],
      "metadata": {
        "id": "HrBiBXS4khiF"
      }
    },
    {
      "cell_type": "code",
      "source": [
        "#mostrar cuantos datos tiene cada categoria\n",
        "pd.value_counts(base1[\"Ingresos\"])"
      ],
      "metadata": {
        "colab": {
          "base_uri": "https://localhost:8080/"
        },
        "id": "sc60F2S_MDgJ",
        "outputId": "700ba89c-5e59-4168-c616-f27859c2fb97"
      },
      "execution_count": null,
      "outputs": [
        {
          "output_type": "execute_result",
          "data": {
            "text/plain": [
              "Mas de s/. 5000           1146\n",
              "DE s/. 4001 a s/. 5000     598\n",
              "DE s/. 3001 a s/. 4000     267\n",
              "DE s/. 2001 a s/. 3000     112\n",
              "NO RESPONDE                 65\n",
              "DE s/. 1000 a s/. 2000      24\n",
              "Menor a s/. 1000             1\n",
              "Name: Ingresos, dtype: int64"
            ]
          },
          "metadata": {},
          "execution_count": 39
        }
      ]
    },
    {
      "cell_type": "code",
      "source": [
        "#TABLA DE FRECUENCIA\n",
        "#forma 1 \n",
        "frec_ing = pd.value_counts(base1[\"Ingresos\"])\n",
        "freq_ingresos = pd.DataFrame(frec_ing)\n",
        "freq_ingresos.columns = [\"Freq_abs\"]\n",
        "freq_ingresos[\"Freq_rel\"] = (freq_ingresos[\"Freq_abs\"])/(len(base1[\"Ingresos\"]))\n",
        "freq_ingresos"
      ],
      "metadata": {
        "colab": {
          "base_uri": "https://localhost:8080/"
        },
        "id": "9RgQhkpma60E",
        "outputId": "b0ef6455-d025-4408-fc82-3f9bc93d1f92"
      },
      "execution_count": null,
      "outputs": [
        {
          "output_type": "execute_result",
          "data": {
            "text/plain": [
              "                        Freq_abs  Freq_rel\n",
              "Mas de s/. 5000             1146  0.517849\n",
              "DE s/. 4001 a s/. 5000       598  0.270221\n",
              "DE s/. 3001 a s/. 4000       267  0.120651\n",
              "DE s/. 2001 a s/. 3000       112  0.050610\n",
              "NO RESPONDE                   65  0.029372\n",
              "DE s/. 1000 a s/. 2000        24  0.010845\n",
              "Menor a s/. 1000               1  0.000452"
            ],
            "text/html": [
              "\n",
              "  <div id=\"df-b15ac6d3-c332-408e-8bd8-6bada0dd4c7d\">\n",
              "    <div class=\"colab-df-container\">\n",
              "      <div>\n",
              "<style scoped>\n",
              "    .dataframe tbody tr th:only-of-type {\n",
              "        vertical-align: middle;\n",
              "    }\n",
              "\n",
              "    .dataframe tbody tr th {\n",
              "        vertical-align: top;\n",
              "    }\n",
              "\n",
              "    .dataframe thead th {\n",
              "        text-align: right;\n",
              "    }\n",
              "</style>\n",
              "<table border=\"1\" class=\"dataframe\">\n",
              "  <thead>\n",
              "    <tr style=\"text-align: right;\">\n",
              "      <th></th>\n",
              "      <th>Freq_abs</th>\n",
              "      <th>Freq_rel</th>\n",
              "    </tr>\n",
              "  </thead>\n",
              "  <tbody>\n",
              "    <tr>\n",
              "      <th>Mas de s/. 5000</th>\n",
              "      <td>1146</td>\n",
              "      <td>0.517849</td>\n",
              "    </tr>\n",
              "    <tr>\n",
              "      <th>DE s/. 4001 a s/. 5000</th>\n",
              "      <td>598</td>\n",
              "      <td>0.270221</td>\n",
              "    </tr>\n",
              "    <tr>\n",
              "      <th>DE s/. 3001 a s/. 4000</th>\n",
              "      <td>267</td>\n",
              "      <td>0.120651</td>\n",
              "    </tr>\n",
              "    <tr>\n",
              "      <th>DE s/. 2001 a s/. 3000</th>\n",
              "      <td>112</td>\n",
              "      <td>0.050610</td>\n",
              "    </tr>\n",
              "    <tr>\n",
              "      <th>NO RESPONDE</th>\n",
              "      <td>65</td>\n",
              "      <td>0.029372</td>\n",
              "    </tr>\n",
              "    <tr>\n",
              "      <th>DE s/. 1000 a s/. 2000</th>\n",
              "      <td>24</td>\n",
              "      <td>0.010845</td>\n",
              "    </tr>\n",
              "    <tr>\n",
              "      <th>Menor a s/. 1000</th>\n",
              "      <td>1</td>\n",
              "      <td>0.000452</td>\n",
              "    </tr>\n",
              "  </tbody>\n",
              "</table>\n",
              "</div>\n",
              "      <button class=\"colab-df-convert\" onclick=\"convertToInteractive('df-b15ac6d3-c332-408e-8bd8-6bada0dd4c7d')\"\n",
              "              title=\"Convert this dataframe to an interactive table.\"\n",
              "              style=\"display:none;\">\n",
              "        \n",
              "  <svg xmlns=\"http://www.w3.org/2000/svg\" height=\"24px\"viewBox=\"0 0 24 24\"\n",
              "       width=\"24px\">\n",
              "    <path d=\"M0 0h24v24H0V0z\" fill=\"none\"/>\n",
              "    <path d=\"M18.56 5.44l.94 2.06.94-2.06 2.06-.94-2.06-.94-.94-2.06-.94 2.06-2.06.94zm-11 1L8.5 8.5l.94-2.06 2.06-.94-2.06-.94L8.5 2.5l-.94 2.06-2.06.94zm10 10l.94 2.06.94-2.06 2.06-.94-2.06-.94-.94-2.06-.94 2.06-2.06.94z\"/><path d=\"M17.41 7.96l-1.37-1.37c-.4-.4-.92-.59-1.43-.59-.52 0-1.04.2-1.43.59L10.3 9.45l-7.72 7.72c-.78.78-.78 2.05 0 2.83L4 21.41c.39.39.9.59 1.41.59.51 0 1.02-.2 1.41-.59l7.78-7.78 2.81-2.81c.8-.78.8-2.07 0-2.86zM5.41 20L4 18.59l7.72-7.72 1.47 1.35L5.41 20z\"/>\n",
              "  </svg>\n",
              "      </button>\n",
              "      \n",
              "  <style>\n",
              "    .colab-df-container {\n",
              "      display:flex;\n",
              "      flex-wrap:wrap;\n",
              "      gap: 12px;\n",
              "    }\n",
              "\n",
              "    .colab-df-convert {\n",
              "      background-color: #E8F0FE;\n",
              "      border: none;\n",
              "      border-radius: 50%;\n",
              "      cursor: pointer;\n",
              "      display: none;\n",
              "      fill: #1967D2;\n",
              "      height: 32px;\n",
              "      padding: 0 0 0 0;\n",
              "      width: 32px;\n",
              "    }\n",
              "\n",
              "    .colab-df-convert:hover {\n",
              "      background-color: #E2EBFA;\n",
              "      box-shadow: 0px 1px 2px rgba(60, 64, 67, 0.3), 0px 1px 3px 1px rgba(60, 64, 67, 0.15);\n",
              "      fill: #174EA6;\n",
              "    }\n",
              "\n",
              "    [theme=dark] .colab-df-convert {\n",
              "      background-color: #3B4455;\n",
              "      fill: #D2E3FC;\n",
              "    }\n",
              "\n",
              "    [theme=dark] .colab-df-convert:hover {\n",
              "      background-color: #434B5C;\n",
              "      box-shadow: 0px 1px 3px 1px rgba(0, 0, 0, 0.15);\n",
              "      filter: drop-shadow(0px 1px 2px rgba(0, 0, 0, 0.3));\n",
              "      fill: #FFFFFF;\n",
              "    }\n",
              "  </style>\n",
              "\n",
              "      <script>\n",
              "        const buttonEl =\n",
              "          document.querySelector('#df-b15ac6d3-c332-408e-8bd8-6bada0dd4c7d button.colab-df-convert');\n",
              "        buttonEl.style.display =\n",
              "          google.colab.kernel.accessAllowed ? 'block' : 'none';\n",
              "\n",
              "        async function convertToInteractive(key) {\n",
              "          const element = document.querySelector('#df-b15ac6d3-c332-408e-8bd8-6bada0dd4c7d');\n",
              "          const dataTable =\n",
              "            await google.colab.kernel.invokeFunction('convertToInteractive',\n",
              "                                                     [key], {});\n",
              "          if (!dataTable) return;\n",
              "\n",
              "          const docLinkHtml = 'Like what you see? Visit the ' +\n",
              "            '<a target=\"_blank\" href=https://colab.research.google.com/notebooks/data_table.ipynb>data table notebook</a>'\n",
              "            + ' to learn more about interactive tables.';\n",
              "          element.innerHTML = '';\n",
              "          dataTable['output_type'] = 'display_data';\n",
              "          await google.colab.output.renderOutput(dataTable, element);\n",
              "          const docLink = document.createElement('div');\n",
              "          docLink.innerHTML = docLinkHtml;\n",
              "          element.appendChild(docLink);\n",
              "        }\n",
              "      </script>\n",
              "    </div>\n",
              "  </div>\n",
              "  "
            ]
          },
          "metadata": {},
          "execution_count": 40
        }
      ]
    },
    {
      "cell_type": "code",
      "source": [
        "#Gráfico de distribución de frecuecias\n",
        "fig_ing = plt.figure() ##crea el grafico\n",
        "ax = fig_ing.add_subplot(1,1,1) #crea los parametros\n",
        "ax.set_title(\"Gráfico de frecuencia - Ingresos\") #titulo\n",
        "ax.bar(freq_ingresos.index, freq_ingresos[\"Freq_rel\"]) #dibujar las barras\n",
        "ax.set_xticklabels(freq_ingresos.index, rotation = 75) #rota las ejes"
      ],
      "metadata": {
        "colab": {
          "base_uri": "https://localhost:8080/"
        },
        "id": "PtZ4vQrPe97q",
        "outputId": "8f34c0dd-b952-410e-a119-2013fe12f2a1"
      },
      "execution_count": null,
      "outputs": [
        {
          "output_type": "execute_result",
          "data": {
            "text/plain": [
              "[Text(0, 0, 'Mas de s/. 5000'),\n",
              " Text(0, 0, 'DE s/. 4001 a s/. 5000'),\n",
              " Text(0, 0, 'DE s/. 3001 a s/. 4000'),\n",
              " Text(0, 0, 'DE s/. 2001 a s/. 3000'),\n",
              " Text(0, 0, 'NO RESPONDE'),\n",
              " Text(0, 0, 'DE s/. 1000 a s/. 2000'),\n",
              " Text(0, 0, 'Menor a s/. 1000')]"
            ]
          },
          "metadata": {},
          "execution_count": 41
        },
        {
          "output_type": "display_data",
          "data": {
            "text/plain": [
              "<Figure size 432x288 with 1 Axes>"
            ],
            "image/png": "[encoded data removed]"
          },
          "metadata": {
            "needs_background": "light"
          }
        }
      ]
    },
    {
      "cell_type": "code",
      "source": [
        "#TABLA DE FRECUENCIA\n",
        "#forma 2 con sidetable\n",
        "tabla_in = base1.stb.freq(['Ingresos'])\n",
        "tabla_i = pd.DataFrame(tabla_in)\n",
        "tabla_i"
      ],
      "metadata": {
        "colab": {
          "base_uri": "https://localhost:8080/"
        },
        "id": "iAvU9rzBZx-h",
        "outputId": "5c5b74dc-eb71-4aad-f631-c60e21036ef8"
      },
      "execution_count": null,
      "outputs": [
        {
          "output_type": "execute_result",
          "data": {
            "text/plain": [
              "                 Ingresos  count    percent  cumulative_count  \\\n",
              "0         Mas de s/. 5000   1146  51.784907              1146   \n",
              "1  DE s/. 4001 a s/. 5000    598  27.022142              1744   \n",
              "2  DE s/. 3001 a s/. 4000    267  12.065070              2011   \n",
              "3  DE s/. 2001 a s/. 3000    112   5.061003              2123   \n",
              "4             NO RESPONDE     65   2.937189              2188   \n",
              "5  DE s/. 1000 a s/. 2000     24   1.084501              2212   \n",
              "6        Menor a s/. 1000      1   0.045188              2213   \n",
              "\n",
              "   cumulative_percent  \n",
              "0           51.784907  \n",
              "1           78.807049  \n",
              "2           90.872119  \n",
              "3           95.933122  \n",
              "4           98.870312  \n",
              "5           99.954812  \n",
              "6          100.000000  "
            ],
            "text/html": [
              "\n",
              "  <div id=\"df-5aa59d36-7ee0-4082-bc0c-4c37b8edc627\">\n",
              "    <div class=\"colab-df-container\">\n",
              "      <div>\n",
              "<style scoped>\n",
              "    .dataframe tbody tr th:only-of-type {\n",
              "        vertical-align: middle;\n",
              "    }\n",
              "\n",
              "    .dataframe tbody tr th {\n",
              "        vertical-align: top;\n",
              "    }\n",
              "\n",
              "    .dataframe thead th {\n",
              "        text-align: right;\n",
              "    }\n",
              "</style>\n",
              "<table border=\"1\" class=\"dataframe\">\n",
              "  <thead>\n",
              "    <tr style=\"text-align: right;\">\n",
              "      <th></th>\n",
              "      <th>Ingresos</th>\n",
              "      <th>count</th>\n",
              "      <th>percent</th>\n",
              "      <th>cumulative_count</th>\n",
              "      <th>cumulative_percent</th>\n",
              "    </tr>\n",
              "  </thead>\n",
              "  <tbody>\n",
              "    <tr>\n",
              "      <th>0</th>\n",
              "      <td>Mas de s/. 5000</td>\n",
              "      <td>1146</td>\n",
              "      <td>51.784907</td>\n",
              "      <td>1146</td>\n",
              "      <td>51.784907</td>\n",
              "    </tr>\n",
              "    <tr>\n",
              "      <th>1</th>\n",
              "      <td>DE s/. 4001 a s/. 5000</td>\n",
              "      <td>598</td>\n",
              "      <td>27.022142</td>\n",
              "      <td>1744</td>\n",
              "      <td>78.807049</td>\n",
              "    </tr>\n",
              "    <tr>\n",
              "      <th>2</th>\n",
              "      <td>DE s/. 3001 a s/. 4000</td>\n",
              "      <td>267</td>\n",
              "      <td>12.065070</td>\n",
              "      <td>2011</td>\n",
              "      <td>90.872119</td>\n",
              "    </tr>\n",
              "    <tr>\n",
              "      <th>3</th>\n",
              "      <td>DE s/. 2001 a s/. 3000</td>\n",
              "      <td>112</td>\n",
              "      <td>5.061003</td>\n",
              "      <td>2123</td>\n",
              "      <td>95.933122</td>\n",
              "    </tr>\n",
              "    <tr>\n",
              "      <th>4</th>\n",
              "      <td>NO RESPONDE</td>\n",
              "      <td>65</td>\n",
              "      <td>2.937189</td>\n",
              "      <td>2188</td>\n",
              "      <td>98.870312</td>\n",
              "    </tr>\n",
              "    <tr>\n",
              "      <th>5</th>\n",
              "      <td>DE s/. 1000 a s/. 2000</td>\n",
              "      <td>24</td>\n",
              "      <td>1.084501</td>\n",
              "      <td>2212</td>\n",
              "      <td>99.954812</td>\n",
              "    </tr>\n",
              "    <tr>\n",
              "      <th>6</th>\n",
              "      <td>Menor a s/. 1000</td>\n",
              "      <td>1</td>\n",
              "      <td>0.045188</td>\n",
              "      <td>2213</td>\n",
              "      <td>100.000000</td>\n",
              "    </tr>\n",
              "  </tbody>\n",
              "</table>\n",
              "</div>\n",
              "      <button class=\"colab-df-convert\" onclick=\"convertToInteractive('df-5aa59d36-7ee0-4082-bc0c-4c37b8edc627')\"\n",
              "              title=\"Convert this dataframe to an interactive table.\"\n",
              "              style=\"display:none;\">\n",
              "        \n",
              "  <svg xmlns=\"http://www.w3.org/2000/svg\" height=\"24px\"viewBox=\"0 0 24 24\"\n",
              "       width=\"24px\">\n",
              "    <path d=\"M0 0h24v24H0V0z\" fill=\"none\"/>\n",
              "    <path d=\"M18.56 5.44l.94 2.06.94-2.06 2.06-.94-2.06-.94-.94-2.06-.94 2.06-2.06.94zm-11 1L8.5 8.5l.94-2.06 2.06-.94-2.06-.94L8.5 2.5l-.94 2.06-2.06.94zm10 10l.94 2.06.94-2.06 2.06-.94-2.06-.94-.94-2.06-.94 2.06-2.06.94z\"/><path d=\"M17.41 7.96l-1.37-1.37c-.4-.4-.92-.59-1.43-.59-.52 0-1.04.2-1.43.59L10.3 9.45l-7.72 7.72c-.78.78-.78 2.05 0 2.83L4 21.41c.39.39.9.59 1.41.59.51 0 1.02-.2 1.41-.59l7.78-7.78 2.81-2.81c.8-.78.8-2.07 0-2.86zM5.41 20L4 18.59l7.72-7.72 1.47 1.35L5.41 20z\"/>\n",
              "  </svg>\n",
              "      </button>\n",
              "      \n",
              "  <style>\n",
              "    .colab-df-container {\n",
              "      display:flex;\n",
              "      flex-wrap:wrap;\n",
              "      gap: 12px;\n",
              "    }\n",
              "\n",
              "    .colab-df-convert {\n",
              "      background-color: #E8F0FE;\n",
              "      border: none;\n",
              "      border-radius: 50%;\n",
              "      cursor: pointer;\n",
              "      display: none;\n",
              "      fill: #1967D2;\n",
              "      height: 32px;\n",
              "      padding: 0 0 0 0;\n",
              "      width: 32px;\n",
              "    }\n",
              "\n",
              "    .colab-df-convert:hover {\n",
              "      background-color: #E2EBFA;\n",
              "      box-shadow: 0px 1px 2px rgba(60, 64, 67, 0.3), 0px 1px 3px 1px rgba(60, 64, 67, 0.15);\n",
              "      fill: #174EA6;\n",
              "    }\n",
              "\n",
              "    [theme=dark] .colab-df-convert {\n",
              "      background-color: #3B4455;\n",
              "      fill: #D2E3FC;\n",
              "    }\n",
              "\n",
              "    [theme=dark] .colab-df-convert:hover {\n",
              "      background-color: #434B5C;\n",
              "      box-shadow: 0px 1px 3px 1px rgba(0, 0, 0, 0.15);\n",
              "      filter: drop-shadow(0px 1px 2px rgba(0, 0, 0, 0.3));\n",
              "      fill: #FFFFFF;\n",
              "    }\n",
              "  </style>\n",
              "\n",
              "      <script>\n",
              "        const buttonEl =\n",
              "          document.querySelector('#df-5aa59d36-7ee0-4082-bc0c-4c37b8edc627 button.colab-df-convert');\n",
              "        buttonEl.style.display =\n",
              "          google.colab.kernel.accessAllowed ? 'block' : 'none';\n",
              "\n",
              "        async function convertToInteractive(key) {\n",
              "          const element = document.querySelector('#df-5aa59d36-7ee0-4082-bc0c-4c37b8edc627');\n",
              "          const dataTable =\n",
              "            await google.colab.kernel.invokeFunction('convertToInteractive',\n",
              "                                                     [key], {});\n",
              "          if (!dataTable) return;\n",
              "\n",
              "          const docLinkHtml = 'Like what you see? Visit the ' +\n",
              "            '<a target=\"_blank\" href=https://colab.research.google.com/notebooks/data_table.ipynb>data table notebook</a>'\n",
              "            + ' to learn more about interactive tables.';\n",
              "          element.innerHTML = '';\n",
              "          dataTable['output_type'] = 'display_data';\n",
              "          await google.colab.output.renderOutput(dataTable, element);\n",
              "          const docLink = document.createElement('div');\n",
              "          docLink.innerHTML = docLinkHtml;\n",
              "          element.appendChild(docLink);\n",
              "        }\n",
              "      </script>\n",
              "    </div>\n",
              "  </div>\n",
              "  "
            ]
          },
          "metadata": {},
          "execution_count": 42
        }
      ]
    },
    {
      "cell_type": "code",
      "source": [
        "fig_i = plt.figure() ##crea el grafico\n",
        "ax = fig_i.add_subplot(1,1,1)\n",
        "ax.set_title(\"Gráfico de frecuencia - Ingresos\") #titulo\n",
        "ax.bar(tabla_i[\"Ingresos\"], tabla_i[\"count\"]) #dibujar las barras\n",
        "ax.set_xticklabels(tabla_i[\"Ingresos\"], rotation = 75) #rota las ejes"
      ],
      "metadata": {
        "colab": {
          "base_uri": "https://localhost:8080/"
        },
        "id": "KvSpWyqdasMQ",
        "outputId": "0732c0eb-86e0-437f-b0dc-635abccd8791"
      },
      "execution_count": null,
      "outputs": [
        {
          "output_type": "execute_result",
          "data": {
            "text/plain": [
              "[Text(0, 0, 'Mas de s/. 5000'),\n",
              " Text(0, 0, 'DE s/. 4001 a s/. 5000'),\n",
              " Text(0, 0, 'DE s/. 3001 a s/. 4000'),\n",
              " Text(0, 0, 'DE s/. 2001 a s/. 3000'),\n",
              " Text(0, 0, 'NO RESPONDE'),\n",
              " Text(0, 0, 'DE s/. 1000 a s/. 2000'),\n",
              " Text(0, 0, 'Menor a s/. 1000')]"
            ]
          },
          "metadata": {},
          "execution_count": 43
        },
        {
          "output_type": "display_data",
          "data": {
            "text/plain": [
              "<Figure size 432x288 with 1 Axes>"
            ],
            "image/png": "[encoded data removed]"
          },
          "metadata": {
            "needs_background": "light"
          }
        }
      ]
    },
    {
      "cell_type": "markdown",
      "source": [
        "#### 2.2.3. Variable Universidad de estudios"
      ],
      "metadata": {
        "id": "wOUpHdF6vRYs"
      }
    },
    {
      "cell_type": "code",
      "source": [
        "#TABLA DE FRECUENCIA\n",
        "tabla_ude = base1.stb.freq(['Universidad_de_estudios'])\n",
        "tabla_ude = pd.DataFrame(tabla_ude)\n",
        "tabla_ude"
      ],
      "metadata": {
        "colab": {
          "base_uri": "https://localhost:8080/"
        },
        "id": "rQGsldy7k4Ql",
        "outputId": "85cd1610-7787-4044-9004-7dc727cee18d"
      },
      "execution_count": null,
      "outputs": [
        {
          "output_type": "execute_result",
          "data": {
            "text/plain": [
              "                 Universidad_de_estudios  count    percent  cumulative_count  \\\n",
              "0                                   Otro    942  42.566652               942   \n",
              "1      Univ.Nacional Mayor de San Marcos    421  19.023949              1363   \n",
              "2             Univ. Nacional de Trujillo    233  10.528694              1596   \n",
              "3  Univ.Nacional San Luis Gonzaga de Ica    199   8.992318              1795   \n",
              "4     Univ. Nacional Federico Villarreal    177   7.998192              1972   \n",
              "5  Univ. Particular San Martin de Porres    107   4.835066              2079   \n",
              "6      Univ. Particular Cayetano Heredia     92   4.157253              2171   \n",
              "7              Univ. Nacional del Centro     42   1.897876              2213   \n",
              "\n",
              "   cumulative_percent  \n",
              "0           42.566652  \n",
              "1           61.590601  \n",
              "2           72.119295  \n",
              "3           81.111613  \n",
              "4           89.109806  \n",
              "5           93.944871  \n",
              "6           98.102124  \n",
              "7          100.000000  "
            ],
            "text/html": [
              "\n",
              "  <div id=\"df-fd740fd4-74d3-4a7e-90f8-e832b7d91fd4\">\n",
              "    <div class=\"colab-df-container\">\n",
              "      <div>\n",
              "<style scoped>\n",
              "    .dataframe tbody tr th:only-of-type {\n",
              "        vertical-align: middle;\n",
              "    }\n",
              "\n",
              "    .dataframe tbody tr th {\n",
              "        vertical-align: top;\n",
              "    }\n",
              "\n",
              "    .dataframe thead th {\n",
              "        text-align: right;\n",
              "    }\n",
              "</style>\n",
              "<table border=\"1\" class=\"dataframe\">\n",
              "  <thead>\n",
              "    <tr style=\"text-align: right;\">\n",
              "      <th></th>\n",
              "      <th>Universidad_de_estudios</th>\n",
              "      <th>count</th>\n",
              "      <th>percent</th>\n",
              "      <th>cumulative_count</th>\n",
              "      <th>cumulative_percent</th>\n",
              "    </tr>\n",
              "  </thead>\n",
              "  <tbody>\n",
              "    <tr>\n",
              "      <th>0</th>\n",
              "      <td>Otro</td>\n",
              "      <td>942</td>\n",
              "      <td>42.566652</td>\n",
              "      <td>942</td>\n",
              "      <td>42.566652</td>\n",
              "    </tr>\n",
              "    <tr>\n",
              "      <th>1</th>\n",
              "      <td>Univ.Nacional Mayor de San Marcos</td>\n",
              "      <td>421</td>\n",
              "      <td>19.023949</td>\n",
              "      <td>1363</td>\n",
              "      <td>61.590601</td>\n",
              "    </tr>\n",
              "    <tr>\n",
              "      <th>2</th>\n",
              "      <td>Univ. Nacional de Trujillo</td>\n",
              "      <td>233</td>\n",
              "      <td>10.528694</td>\n",
              "      <td>1596</td>\n",
              "      <td>72.119295</td>\n",
              "    </tr>\n",
              "    <tr>\n",
              "      <th>3</th>\n",
              "      <td>Univ.Nacional San Luis Gonzaga de Ica</td>\n",
              "      <td>199</td>\n",
              "      <td>8.992318</td>\n",
              "      <td>1795</td>\n",
              "      <td>81.111613</td>\n",
              "    </tr>\n",
              "    <tr>\n",
              "      <th>4</th>\n",
              "      <td>Univ. Nacional Federico Villarreal</td>\n",
              "      <td>177</td>\n",
              "      <td>7.998192</td>\n",
              "      <td>1972</td>\n",
              "      <td>89.109806</td>\n",
              "    </tr>\n",
              "    <tr>\n",
              "      <th>5</th>\n",
              "      <td>Univ. Particular San Martin de Porres</td>\n",
              "      <td>107</td>\n",
              "      <td>4.835066</td>\n",
              "      <td>2079</td>\n",
              "      <td>93.944871</td>\n",
              "    </tr>\n",
              "    <tr>\n",
              "      <th>6</th>\n",
              "      <td>Univ. Particular Cayetano Heredia</td>\n",
              "      <td>92</td>\n",
              "      <td>4.157253</td>\n",
              "      <td>2171</td>\n",
              "      <td>98.102124</td>\n",
              "    </tr>\n",
              "    <tr>\n",
              "      <th>7</th>\n",
              "      <td>Univ. Nacional del Centro</td>\n",
              "      <td>42</td>\n",
              "      <td>1.897876</td>\n",
              "      <td>2213</td>\n",
              "      <td>100.000000</td>\n",
              "    </tr>\n",
              "  </tbody>\n",
              "</table>\n",
              "</div>\n",
              "      <button class=\"colab-df-convert\" onclick=\"convertToInteractive('df-fd740fd4-74d3-4a7e-90f8-e832b7d91fd4')\"\n",
              "              title=\"Convert this dataframe to an interactive table.\"\n",
              "              style=\"display:none;\">\n",
              "        \n",
              "  <svg xmlns=\"http://www.w3.org/2000/svg\" height=\"24px\"viewBox=\"0 0 24 24\"\n",
              "       width=\"24px\">\n",
              "    <path d=\"M0 0h24v24H0V0z\" fill=\"none\"/>\n",
              "    <path d=\"M18.56 5.44l.94 2.06.94-2.06 2.06-.94-2.06-.94-.94-2.06-.94 2.06-2.06.94zm-11 1L8.5 8.5l.94-2.06 2.06-.94-2.06-.94L8.5 2.5l-.94 2.06-2.06.94zm10 10l.94 2.06.94-2.06 2.06-.94-2.06-.94-.94-2.06-.94 2.06-2.06.94z\"/><path d=\"M17.41 7.96l-1.37-1.37c-.4-.4-.92-.59-1.43-.59-.52 0-1.04.2-1.43.59L10.3 9.45l-7.72 7.72c-.78.78-.78 2.05 0 2.83L4 21.41c.39.39.9.59 1.41.59.51 0 1.02-.2 1.41-.59l7.78-7.78 2.81-2.81c.8-.78.8-2.07 0-2.86zM5.41 20L4 18.59l7.72-7.72 1.47 1.35L5.41 20z\"/>\n",
              "  </svg>\n",
              "      </button>\n",
              "      \n",
              "  <style>\n",
              "    .colab-df-container {\n",
              "      display:flex;\n",
              "      flex-wrap:wrap;\n",
              "      gap: 12px;\n",
              "    }\n",
              "\n",
              "    .colab-df-convert {\n",
              "      background-color: #E8F0FE;\n",
              "      border: none;\n",
              "      border-radius: 50%;\n",
              "      cursor: pointer;\n",
              "      display: none;\n",
              "      fill: #1967D2;\n",
              "      height: 32px;\n",
              "      padding: 0 0 0 0;\n",
              "      width: 32px;\n",
              "    }\n",
              "\n",
              "    .colab-df-convert:hover {\n",
              "      background-color: #E2EBFA;\n",
              "      box-shadow: 0px 1px 2px rgba(60, 64, 67, 0.3), 0px 1px 3px 1px rgba(60, 64, 67, 0.15);\n",
              "      fill: #174EA6;\n",
              "    }\n",
              "\n",
              "    [theme=dark] .colab-df-convert {\n",
              "      background-color: #3B4455;\n",
              "      fill: #D2E3FC;\n",
              "    }\n",
              "\n",
              "    [theme=dark] .colab-df-convert:hover {\n",
              "      background-color: #434B5C;\n",
              "      box-shadow: 0px 1px 3px 1px rgba(0, 0, 0, 0.15);\n",
              "      filter: drop-shadow(0px 1px 2px rgba(0, 0, 0, 0.3));\n",
              "      fill: #FFFFFF;\n",
              "    }\n",
              "  </style>\n",
              "\n",
              "      <script>\n",
              "        const buttonEl =\n",
              "          document.querySelector('#df-fd740fd4-74d3-4a7e-90f8-e832b7d91fd4 button.colab-df-convert');\n",
              "        buttonEl.style.display =\n",
              "          google.colab.kernel.accessAllowed ? 'block' : 'none';\n",
              "\n",
              "        async function convertToInteractive(key) {\n",
              "          const element = document.querySelector('#df-fd740fd4-74d3-4a7e-90f8-e832b7d91fd4');\n",
              "          const dataTable =\n",
              "            await google.colab.kernel.invokeFunction('convertToInteractive',\n",
              "                                                     [key], {});\n",
              "          if (!dataTable) return;\n",
              "\n",
              "          const docLinkHtml = 'Like what you see? Visit the ' +\n",
              "            '<a target=\"_blank\" href=https://colab.research.google.com/notebooks/data_table.ipynb>data table notebook</a>'\n",
              "            + ' to learn more about interactive tables.';\n",
              "          element.innerHTML = '';\n",
              "          dataTable['output_type'] = 'display_data';\n",
              "          await google.colab.output.renderOutput(dataTable, element);\n",
              "          const docLink = document.createElement('div');\n",
              "          docLink.innerHTML = docLinkHtml;\n",
              "          element.appendChild(docLink);\n",
              "        }\n",
              "      </script>\n",
              "    </div>\n",
              "  </div>\n",
              "  "
            ]
          },
          "metadata": {},
          "execution_count": 44
        }
      ]
    },
    {
      "cell_type": "code",
      "source": [
        "fig_ude = plt.figure() ##crea el grafico\n",
        "ax = fig_ude.add_subplot(1,1,1)\n",
        "ax.set_title(\"Gráfico de frecuencia - Universidad de estudios\") #titulo\n",
        "ax.bar(tabla_ude[\"Universidad_de_estudios\"], tabla_ude[\"count\"]) #dibujar las barras\n",
        "ax.set_xticklabels(tabla_ude[\"Universidad_de_estudios\"], rotation = 75) #rota las ejes"
      ],
      "metadata": {
        "colab": {
          "base_uri": "https://localhost:8080/"
        },
        "id": "wqudHSk5lfsl",
        "outputId": "f086e9f3-ce37-4b7f-8567-98cb52db3a4a"
      },
      "execution_count": null,
      "outputs": [
        {
          "output_type": "execute_result",
          "data": {
            "text/plain": [
              "[Text(0, 0, 'Otro'),\n",
              " Text(0, 0, 'Univ.Nacional Mayor de San Marcos'),\n",
              " Text(0, 0, 'Univ. Nacional de Trujillo'),\n",
              " Text(0, 0, 'Univ.Nacional San Luis Gonzaga de Ica'),\n",
              " Text(0, 0, 'Univ. Nacional Federico Villarreal'),\n",
              " Text(0, 0, 'Univ. Particular San Martin de Porres'),\n",
              " Text(0, 0, 'Univ. Particular Cayetano Heredia'),\n",
              " Text(0, 0, 'Univ. Nacional del Centro')]"
            ]
          },
          "metadata": {},
          "execution_count": 45
        },
        {
          "output_type": "display_data",
          "data": {
            "text/plain": [
              "<Figure size 432x288 with 1 Axes>"
            ],
            "image/png": "[encoded data removed]"
          },
          "metadata": {
            "needs_background": "light"
          }
        }
      ]
    },
    {
      "cell_type": "markdown",
      "source": [
        "#### 2.2.4. Variable Tipo de contrato"
      ],
      "metadata": {
        "id": "SdqAukdqwboB"
      }
    },
    {
      "cell_type": "code",
      "source": [
        "#TABLA DE FRECUENCIA\n",
        "tabla_t = base1.stb.freq(['Tipo_de_contrato'])\n",
        "tabla_tc = pd.DataFrame(tabla_t)\n",
        "tabla_tc"
      ],
      "metadata": {
        "colab": {
          "base_uri": "https://localhost:8080/"
        },
        "id": "eSJss6KvmUN0",
        "outputId": "69133270-0f99-4359-d675-8e8906fc5046"
      },
      "execution_count": null,
      "outputs": [
        {
          "output_type": "execute_result",
          "data": {
            "text/plain": [
              "                                   Tipo_de_contrato  count    percent  \\\n",
              "0                              Nombrado, permanente    878  39.674650   \n",
              "1        Plazo indeterminado o indefinido (D.S.728)    707  31.947582   \n",
              "2        Contrato Administrativo de Servicios (CAS)    277  12.516945   \n",
              "3  Locaciòn de servicios (Honorarios profesionales)    158   7.139629   \n",
              "4        Contrato a plazo fijo (sujeto a modalidad)    138   6.235879   \n",
              "5                                              Otro     55   2.485314   \n",
              "\n",
              "   cumulative_count  cumulative_percent  \n",
              "0               878           39.674650  \n",
              "1              1585           71.622232  \n",
              "2              1862           84.139178  \n",
              "3              2020           91.278807  \n",
              "4              2158           97.514686  \n",
              "5              2213          100.000000  "
            ],
            "text/html": [
              "\n",
              "  <div id=\"df-07ad0a97-30ff-49f6-8ea0-af56d0bd7014\">\n",
              "    <div class=\"colab-df-container\">\n",
              "      <div>\n",
              "<style scoped>\n",
              "    .dataframe tbody tr th:only-of-type {\n",
              "        vertical-align: middle;\n",
              "    }\n",
              "\n",
              "    .dataframe tbody tr th {\n",
              "        vertical-align: top;\n",
              "    }\n",
              "\n",
              "    .dataframe thead th {\n",
              "        text-align: right;\n",
              "    }\n",
              "</style>\n",
              "<table border=\"1\" class=\"dataframe\">\n",
              "  <thead>\n",
              "    <tr style=\"text-align: right;\">\n",
              "      <th></th>\n",
              "      <th>Tipo_de_contrato</th>\n",
              "      <th>count</th>\n",
              "      <th>percent</th>\n",
              "      <th>cumulative_count</th>\n",
              "      <th>cumulative_percent</th>\n",
              "    </tr>\n",
              "  </thead>\n",
              "  <tbody>\n",
              "    <tr>\n",
              "      <th>0</th>\n",
              "      <td>Nombrado, permanente</td>\n",
              "      <td>878</td>\n",
              "      <td>39.674650</td>\n",
              "      <td>878</td>\n",
              "      <td>39.674650</td>\n",
              "    </tr>\n",
              "    <tr>\n",
              "      <th>1</th>\n",
              "      <td>Plazo indeterminado o indefinido (D.S.728)</td>\n",
              "      <td>707</td>\n",
              "      <td>31.947582</td>\n",
              "      <td>1585</td>\n",
              "      <td>71.622232</td>\n",
              "    </tr>\n",
              "    <tr>\n",
              "      <th>2</th>\n",
              "      <td>Contrato Administrativo de Servicios (CAS)</td>\n",
              "      <td>277</td>\n",
              "      <td>12.516945</td>\n",
              "      <td>1862</td>\n",
              "      <td>84.139178</td>\n",
              "    </tr>\n",
              "    <tr>\n",
              "      <th>3</th>\n",
              "      <td>Locaciòn de servicios (Honorarios profesionales)</td>\n",
              "      <td>158</td>\n",
              "      <td>7.139629</td>\n",
              "      <td>2020</td>\n",
              "      <td>91.278807</td>\n",
              "    </tr>\n",
              "    <tr>\n",
              "      <th>4</th>\n",
              "      <td>Contrato a plazo fijo (sujeto a modalidad)</td>\n",
              "      <td>138</td>\n",
              "      <td>6.235879</td>\n",
              "      <td>2158</td>\n",
              "      <td>97.514686</td>\n",
              "    </tr>\n",
              "    <tr>\n",
              "      <th>5</th>\n",
              "      <td>Otro</td>\n",
              "      <td>55</td>\n",
              "      <td>2.485314</td>\n",
              "      <td>2213</td>\n",
              "      <td>100.000000</td>\n",
              "    </tr>\n",
              "  </tbody>\n",
              "</table>\n",
              "</div>\n",
              "      <button class=\"colab-df-convert\" onclick=\"convertToInteractive('df-07ad0a97-30ff-49f6-8ea0-af56d0bd7014')\"\n",
              "              title=\"Convert this dataframe to an interactive table.\"\n",
              "              style=\"display:none;\">\n",
              "        \n",
              "  <svg xmlns=\"http://www.w3.org/2000/svg\" height=\"24px\"viewBox=\"0 0 24 24\"\n",
              "       width=\"24px\">\n",
              "    <path d=\"M0 0h24v24H0V0z\" fill=\"none\"/>\n",
              "    <path d=\"M18.56 5.44l.94 2.06.94-2.06 2.06-.94-2.06-.94-.94-2.06-.94 2.06-2.06.94zm-11 1L8.5 8.5l.94-2.06 2.06-.94-2.06-.94L8.5 2.5l-.94 2.06-2.06.94zm10 10l.94 2.06.94-2.06 2.06-.94-2.06-.94-.94-2.06-.94 2.06-2.06.94z\"/><path d=\"M17.41 7.96l-1.37-1.37c-.4-.4-.92-.59-1.43-.59-.52 0-1.04.2-1.43.59L10.3 9.45l-7.72 7.72c-.78.78-.78 2.05 0 2.83L4 21.41c.39.39.9.59 1.41.59.51 0 1.02-.2 1.41-.59l7.78-7.78 2.81-2.81c.8-.78.8-2.07 0-2.86zM5.41 20L4 18.59l7.72-7.72 1.47 1.35L5.41 20z\"/>\n",
              "  </svg>\n",
              "      </button>\n",
              "      \n",
              "  <style>\n",
              "    .colab-df-container {\n",
              "      display:flex;\n",
              "      flex-wrap:wrap;\n",
              "      gap: 12px;\n",
              "    }\n",
              "\n",
              "    .colab-df-convert {\n",
              "      background-color: #E8F0FE;\n",
              "      border: none;\n",
              "      border-radius: 50%;\n",
              "      cursor: pointer;\n",
              "      display: none;\n",
              "      fill: #1967D2;\n",
              "      height: 32px;\n",
              "      padding: 0 0 0 0;\n",
              "      width: 32px;\n",
              "    }\n",
              "\n",
              "    .colab-df-convert:hover {\n",
              "      background-color: #E2EBFA;\n",
              "      box-shadow: 0px 1px 2px rgba(60, 64, 67, 0.3), 0px 1px 3px 1px rgba(60, 64, 67, 0.15);\n",
              "      fill: #174EA6;\n",
              "    }\n",
              "\n",
              "    [theme=dark] .colab-df-convert {\n",
              "      background-color: #3B4455;\n",
              "      fill: #D2E3FC;\n",
              "    }\n",
              "\n",
              "    [theme=dark] .colab-df-convert:hover {\n",
              "      background-color: #434B5C;\n",
              "      box-shadow: 0px 1px 3px 1px rgba(0, 0, 0, 0.15);\n",
              "      filter: drop-shadow(0px 1px 2px rgba(0, 0, 0, 0.3));\n",
              "      fill: #FFFFFF;\n",
              "    }\n",
              "  </style>\n",
              "\n",
              "      <script>\n",
              "        const buttonEl =\n",
              "          document.querySelector('#df-07ad0a97-30ff-49f6-8ea0-af56d0bd7014 button.colab-df-convert');\n",
              "        buttonEl.style.display =\n",
              "          google.colab.kernel.accessAllowed ? 'block' : 'none';\n",
              "\n",
              "        async function convertToInteractive(key) {\n",
              "          const element = document.querySelector('#df-07ad0a97-30ff-49f6-8ea0-af56d0bd7014');\n",
              "          const dataTable =\n",
              "            await google.colab.kernel.invokeFunction('convertToInteractive',\n",
              "                                                     [key], {});\n",
              "          if (!dataTable) return;\n",
              "\n",
              "          const docLinkHtml = 'Like what you see? Visit the ' +\n",
              "            '<a target=\"_blank\" href=https://colab.research.google.com/notebooks/data_table.ipynb>data table notebook</a>'\n",
              "            + ' to learn more about interactive tables.';\n",
              "          element.innerHTML = '';\n",
              "          dataTable['output_type'] = 'display_data';\n",
              "          await google.colab.output.renderOutput(dataTable, element);\n",
              "          const docLink = document.createElement('div');\n",
              "          docLink.innerHTML = docLinkHtml;\n",
              "          element.appendChild(docLink);\n",
              "        }\n",
              "      </script>\n",
              "    </div>\n",
              "  </div>\n",
              "  "
            ]
          },
          "metadata": {},
          "execution_count": 46
        }
      ]
    },
    {
      "cell_type": "code",
      "source": [
        "fig_tc = plt.figure() ##crea el grafico\n",
        "ax = fig_tc.add_subplot(1,1,1)\n",
        "ax.set_title(\"Gráfico de frecuencia - Tipo_de_contrato\") #titulo\n",
        "ax.bar(tabla_tc[\"Tipo_de_contrato\"], tabla_tc[\"count\"]) #dibujar las barras\n",
        "ax.set_xticklabels(tabla_tc[\"Tipo_de_contrato\"], rotation = 75) #rota las ejes"
      ],
      "metadata": {
        "colab": {
          "base_uri": "https://localhost:8080/"
        },
        "id": "SgqIk1-7mX_a",
        "outputId": "15a78b89-6adc-495d-b81b-69aef359bb86"
      },
      "execution_count": null,
      "outputs": [
        {
          "output_type": "execute_result",
          "data": {
            "text/plain": [
              "[Text(0, 0, 'Nombrado, permanente'),\n",
              " Text(0, 0, 'Plazo indeterminado o indefinido (D.S.728)'),\n",
              " Text(0, 0, 'Contrato Administrativo de Servicios (CAS)'),\n",
              " Text(0, 0, 'Locaciòn de servicios (Honorarios profesionales)'),\n",
              " Text(0, 0, 'Contrato a plazo fijo (sujeto a modalidad)'),\n",
              " Text(0, 0, 'Otro')]"
            ]
          },
          "metadata": {},
          "execution_count": 47
        },
        {
          "output_type": "display_data",
          "data": {
            "text/plain": [
              "<Figure size 432x288 with 1 Axes>"
            ],
            "image/png": "[encoded data removed]"
          },
          "metadata": {
            "needs_background": "light"
          }
        }
      ]
    },
    {
      "cell_type": "markdown",
      "source": [
        "#### 2.2.5 Variable Realiza labor docente adicional"
      ],
      "metadata": {
        "id": "fKglXOjRwjMK"
      }
    },
    {
      "cell_type": "code",
      "source": [
        "#TABLA DE FRECUENCIA\n",
        "tabla_rl = base1.stb.freq(['Realiza_labor_docente_adicional'])\n",
        "tabla_rld = pd.DataFrame(tabla_rl)\n",
        "tabla_rld"
      ],
      "metadata": {
        "colab": {
          "base_uri": "https://localhost:8080/"
        },
        "id": "9RCJfD5Vm3X-",
        "outputId": "102ab449-74b7-4b62-bd87-a5e009d30b1b"
      },
      "execution_count": null,
      "outputs": [
        {
          "output_type": "execute_result",
          "data": {
            "text/plain": [
              "  Realiza_labor_docente_adicional  count    percent  cumulative_count  \\\n",
              "0                              No   1587  71.712607              1587   \n",
              "1                              Si    626  28.287393              2213   \n",
              "\n",
              "   cumulative_percent  \n",
              "0           71.712607  \n",
              "1          100.000000  "
            ],
            "text/html": [
              "\n",
              "  <div id=\"df-edcf5d0c-bc4e-4e19-bcc2-6cb863059f7a\">\n",
              "    <div class=\"colab-df-container\">\n",
              "      <div>\n",
              "<style scoped>\n",
              "    .dataframe tbody tr th:only-of-type {\n",
              "        vertical-align: middle;\n",
              "    }\n",
              "\n",
              "    .dataframe tbody tr th {\n",
              "        vertical-align: top;\n",
              "    }\n",
              "\n",
              "    .dataframe thead th {\n",
              "        text-align: right;\n",
              "    }\n",
              "</style>\n",
              "<table border=\"1\" class=\"dataframe\">\n",
              "  <thead>\n",
              "    <tr style=\"text-align: right;\">\n",
              "      <th></th>\n",
              "      <th>Realiza_labor_docente_adicional</th>\n",
              "      <th>count</th>\n",
              "      <th>percent</th>\n",
              "      <th>cumulative_count</th>\n",
              "      <th>cumulative_percent</th>\n",
              "    </tr>\n",
              "  </thead>\n",
              "  <tbody>\n",
              "    <tr>\n",
              "      <th>0</th>\n",
              "      <td>No</td>\n",
              "      <td>1587</td>\n",
              "      <td>71.712607</td>\n",
              "      <td>1587</td>\n",
              "      <td>71.712607</td>\n",
              "    </tr>\n",
              "    <tr>\n",
              "      <th>1</th>\n",
              "      <td>Si</td>\n",
              "      <td>626</td>\n",
              "      <td>28.287393</td>\n",
              "      <td>2213</td>\n",
              "      <td>100.000000</td>\n",
              "    </tr>\n",
              "  </tbody>\n",
              "</table>\n",
              "</div>\n",
              "      <button class=\"colab-df-convert\" onclick=\"convertToInteractive('df-edcf5d0c-bc4e-4e19-bcc2-6cb863059f7a')\"\n",
              "              title=\"Convert this dataframe to an interactive table.\"\n",
              "              style=\"display:none;\">\n",
              "        \n",
              "  <svg xmlns=\"http://www.w3.org/2000/svg\" height=\"24px\"viewBox=\"0 0 24 24\"\n",
              "       width=\"24px\">\n",
              "    <path d=\"M0 0h24v24H0V0z\" fill=\"none\"/>\n",
              "    <path d=\"M18.56 5.44l.94 2.06.94-2.06 2.06-.94-2.06-.94-.94-2.06-.94 2.06-2.06.94zm-11 1L8.5 8.5l.94-2.06 2.06-.94-2.06-.94L8.5 2.5l-.94 2.06-2.06.94zm10 10l.94 2.06.94-2.06 2.06-.94-2.06-.94-.94-2.06-.94 2.06-2.06.94z\"/><path d=\"M17.41 7.96l-1.37-1.37c-.4-.4-.92-.59-1.43-.59-.52 0-1.04.2-1.43.59L10.3 9.45l-7.72 7.72c-.78.78-.78 2.05 0 2.83L4 21.41c.39.39.9.59 1.41.59.51 0 1.02-.2 1.41-.59l7.78-7.78 2.81-2.81c.8-.78.8-2.07 0-2.86zM5.41 20L4 18.59l7.72-7.72 1.47 1.35L5.41 20z\"/>\n",
              "  </svg>\n",
              "      </button>\n",
              "      \n",
              "  <style>\n",
              "    .colab-df-container {\n",
              "      display:flex;\n",
              "      flex-wrap:wrap;\n",
              "      gap: 12px;\n",
              "    }\n",
              "\n",
              "    .colab-df-convert {\n",
              "      background-color: #E8F0FE;\n",
              "      border: none;\n",
              "      border-radius: 50%;\n",
              "      cursor: pointer;\n",
              "      display: none;\n",
              "      fill: #1967D2;\n",
              "      height: 32px;\n",
              "      padding: 0 0 0 0;\n",
              "      width: 32px;\n",
              "    }\n",
              "\n",
              "    .colab-df-convert:hover {\n",
              "      background-color: #E2EBFA;\n",
              "      box-shadow: 0px 1px 2px rgba(60, 64, 67, 0.3), 0px 1px 3px 1px rgba(60, 64, 67, 0.15);\n",
              "      fill: #174EA6;\n",
              "    }\n",
              "\n",
              "    [theme=dark] .colab-df-convert {\n",
              "      background-color: #3B4455;\n",
              "      fill: #D2E3FC;\n",
              "    }\n",
              "\n",
              "    [theme=dark] .colab-df-convert:hover {\n",
              "      background-color: #434B5C;\n",
              "      box-shadow: 0px 1px 3px 1px rgba(0, 0, 0, 0.15);\n",
              "      filter: drop-shadow(0px 1px 2px rgba(0, 0, 0, 0.3));\n",
              "      fill: #FFFFFF;\n",
              "    }\n",
              "  </style>\n",
              "\n",
              "      <script>\n",
              "        const buttonEl =\n",
              "          document.querySelector('#df-edcf5d0c-bc4e-4e19-bcc2-6cb863059f7a button.colab-df-convert');\n",
              "        buttonEl.style.display =\n",
              "          google.colab.kernel.accessAllowed ? 'block' : 'none';\n",
              "\n",
              "        async function convertToInteractive(key) {\n",
              "          const element = document.querySelector('#df-edcf5d0c-bc4e-4e19-bcc2-6cb863059f7a');\n",
              "          const dataTable =\n",
              "            await google.colab.kernel.invokeFunction('convertToInteractive',\n",
              "                                                     [key], {});\n",
              "          if (!dataTable) return;\n",
              "\n",
              "          const docLinkHtml = 'Like what you see? Visit the ' +\n",
              "            '<a target=\"_blank\" href=https://colab.research.google.com/notebooks/data_table.ipynb>data table notebook</a>'\n",
              "            + ' to learn more about interactive tables.';\n",
              "          element.innerHTML = '';\n",
              "          dataTable['output_type'] = 'display_data';\n",
              "          await google.colab.output.renderOutput(dataTable, element);\n",
              "          const docLink = document.createElement('div');\n",
              "          docLink.innerHTML = docLinkHtml;\n",
              "          element.appendChild(docLink);\n",
              "        }\n",
              "      </script>\n",
              "    </div>\n",
              "  </div>\n",
              "  "
            ]
          },
          "metadata": {},
          "execution_count": 48
        }
      ]
    },
    {
      "cell_type": "code",
      "source": [
        "plt.pie(  tabla_rld[\"count\"], labels = tabla_rld[\"Realiza_labor_docente_adicional\"].astype(str))"
      ],
      "metadata": {
        "colab": {
          "base_uri": "https://localhost:8080/"
        },
        "id": "f0Lf3ZYPnt2C",
        "outputId": "60fccf34-0da9-483d-bb8e-0cdeac089073"
      },
      "execution_count": null,
      "outputs": [
        {
          "output_type": "execute_result",
          "data": {
            "text/plain": [
              "([<matplotlib.patches.Wedge at 0x7ff55d36c6d0>,\n",
              "  <matplotlib.patches.Wedge at 0x7ff55d36cb80>],\n",
              " [Text(-0.6934854971014623, 0.853860565496462, 'No'),\n",
              "  Text(0.6934854971014621, -0.853860565496462, 'Si')])"
            ]
          },
          "metadata": {},
          "execution_count": 49
        },
        {
          "output_type": "display_data",
          "data": {
            "text/plain": [
              "<Figure size 432x288 with 1 Axes>"
            ],
            "image/png": "[encoded data removed]"
          },
          "metadata": {}
        }
      ]
    },
    {
      "cell_type": "markdown",
      "source": [
        "#### 2.2.6. Variable Nivel de satisfacción"
      ],
      "metadata": {
        "id": "5F4BRwnAwxtT"
      }
    },
    {
      "cell_type": "code",
      "source": [
        "#TABLA DE FRECUENCIA\n",
        "tabla_n = base1.stb.freq(['Nivel_de_satisfacción'])\n",
        "tabla_ns = pd.DataFrame(tabla_n)\n",
        "tabla_ns"
      ],
      "metadata": {
        "colab": {
          "base_uri": "https://localhost:8080/"
        },
        "id": "D3jYRMs2oMNs",
        "outputId": "0cbe0ef8-7e29-4d1f-8b7d-b64b3b2fe902"
      },
      "execution_count": null,
      "outputs": [
        {
          "output_type": "execute_result",
          "data": {
            "text/plain": [
              "                Nivel_de_satisfacción  count    percent  cumulative_count  \\\n",
              "0                        Satisfecho/a   1259  56.891098              1259   \n",
              "1  Ni satisfecho/a  Ni insatisfecho/a    438  19.792137              1697   \n",
              "2                      Insatisfecho/a    341  15.408947              2038   \n",
              "3                    Muy satisfecho/a    111   5.015816              2149   \n",
              "4                  Muy insatisfecho/a     64   2.892002              2213   \n",
              "\n",
              "   cumulative_percent  \n",
              "0           56.891098  \n",
              "1           76.683235  \n",
              "2           92.092183  \n",
              "3           97.107998  \n",
              "4          100.000000  "
            ],
            "text/html": [
              "\n",
              "  <div id=\"df-3ea8b438-e1bd-4375-a9ae-10e4e6ca1256\">\n",
              "    <div class=\"colab-df-container\">\n",
              "      <div>\n",
              "<style scoped>\n",
              "    .dataframe tbody tr th:only-of-type {\n",
              "        vertical-align: middle;\n",
              "    }\n",
              "\n",
              "    .dataframe tbody tr th {\n",
              "        vertical-align: top;\n",
              "    }\n",
              "\n",
              "    .dataframe thead th {\n",
              "        text-align: right;\n",
              "    }\n",
              "</style>\n",
              "<table border=\"1\" class=\"dataframe\">\n",
              "  <thead>\n",
              "    <tr style=\"text-align: right;\">\n",
              "      <th></th>\n",
              "      <th>Nivel_de_satisfacción</th>\n",
              "      <th>count</th>\n",
              "      <th>percent</th>\n",
              "      <th>cumulative_count</th>\n",
              "      <th>cumulative_percent</th>\n",
              "    </tr>\n",
              "  </thead>\n",
              "  <tbody>\n",
              "    <tr>\n",
              "      <th>0</th>\n",
              "      <td>Satisfecho/a</td>\n",
              "      <td>1259</td>\n",
              "      <td>56.891098</td>\n",
              "      <td>1259</td>\n",
              "      <td>56.891098</td>\n",
              "    </tr>\n",
              "    <tr>\n",
              "      <th>1</th>\n",
              "      <td>Ni satisfecho/a  Ni insatisfecho/a</td>\n",
              "      <td>438</td>\n",
              "      <td>19.792137</td>\n",
              "      <td>1697</td>\n",
              "      <td>76.683235</td>\n",
              "    </tr>\n",
              "    <tr>\n",
              "      <th>2</th>\n",
              "      <td>Insatisfecho/a</td>\n",
              "      <td>341</td>\n",
              "      <td>15.408947</td>\n",
              "      <td>2038</td>\n",
              "      <td>92.092183</td>\n",
              "    </tr>\n",
              "    <tr>\n",
              "      <th>3</th>\n",
              "      <td>Muy satisfecho/a</td>\n",
              "      <td>111</td>\n",
              "      <td>5.015816</td>\n",
              "      <td>2149</td>\n",
              "      <td>97.107998</td>\n",
              "    </tr>\n",
              "    <tr>\n",
              "      <th>4</th>\n",
              "      <td>Muy insatisfecho/a</td>\n",
              "      <td>64</td>\n",
              "      <td>2.892002</td>\n",
              "      <td>2213</td>\n",
              "      <td>100.000000</td>\n",
              "    </tr>\n",
              "  </tbody>\n",
              "</table>\n",
              "</div>\n",
              "      <button class=\"colab-df-convert\" onclick=\"convertToInteractive('df-3ea8b438-e1bd-4375-a9ae-10e4e6ca1256')\"\n",
              "              title=\"Convert this dataframe to an interactive table.\"\n",
              "              style=\"display:none;\">\n",
              "        \n",
              "  <svg xmlns=\"http://www.w3.org/2000/svg\" height=\"24px\"viewBox=\"0 0 24 24\"\n",
              "       width=\"24px\">\n",
              "    <path d=\"M0 0h24v24H0V0z\" fill=\"none\"/>\n",
              "    <path d=\"M18.56 5.44l.94 2.06.94-2.06 2.06-.94-2.06-.94-.94-2.06-.94 2.06-2.06.94zm-11 1L8.5 8.5l.94-2.06 2.06-.94-2.06-.94L8.5 2.5l-.94 2.06-2.06.94zm10 10l.94 2.06.94-2.06 2.06-.94-2.06-.94-.94-2.06-.94 2.06-2.06.94z\"/><path d=\"M17.41 7.96l-1.37-1.37c-.4-.4-.92-.59-1.43-.59-.52 0-1.04.2-1.43.59L10.3 9.45l-7.72 7.72c-.78.78-.78 2.05 0 2.83L4 21.41c.39.39.9.59 1.41.59.51 0 1.02-.2 1.41-.59l7.78-7.78 2.81-2.81c.8-.78.8-2.07 0-2.86zM5.41 20L4 18.59l7.72-7.72 1.47 1.35L5.41 20z\"/>\n",
              "  </svg>\n",
              "      </button>\n",
              "      \n",
              "  <style>\n",
              "    .colab-df-container {\n",
              "      display:flex;\n",
              "      flex-wrap:wrap;\n",
              "      gap: 12px;\n",
              "    }\n",
              "\n",
              "    .colab-df-convert {\n",
              "      background-color: #E8F0FE;\n",
              "      border: none;\n",
              "      border-radius: 50%;\n",
              "      cursor: pointer;\n",
              "      display: none;\n",
              "      fill: #1967D2;\n",
              "      height: 32px;\n",
              "      padding: 0 0 0 0;\n",
              "      width: 32px;\n",
              "    }\n",
              "\n",
              "    .colab-df-convert:hover {\n",
              "      background-color: #E2EBFA;\n",
              "      box-shadow: 0px 1px 2px rgba(60, 64, 67, 0.3), 0px 1px 3px 1px rgba(60, 64, 67, 0.15);\n",
              "      fill: #174EA6;\n",
              "    }\n",
              "\n",
              "    [theme=dark] .colab-df-convert {\n",
              "      background-color: #3B4455;\n",
              "      fill: #D2E3FC;\n",
              "    }\n",
              "\n",
              "    [theme=dark] .colab-df-convert:hover {\n",
              "      background-color: #434B5C;\n",
              "      box-shadow: 0px 1px 3px 1px rgba(0, 0, 0, 0.15);\n",
              "      filter: drop-shadow(0px 1px 2px rgba(0, 0, 0, 0.3));\n",
              "      fill: #FFFFFF;\n",
              "    }\n",
              "  </style>\n",
              "\n",
              "      <script>\n",
              "        const buttonEl =\n",
              "          document.querySelector('#df-3ea8b438-e1bd-4375-a9ae-10e4e6ca1256 button.colab-df-convert');\n",
              "        buttonEl.style.display =\n",
              "          google.colab.kernel.accessAllowed ? 'block' : 'none';\n",
              "\n",
              "        async function convertToInteractive(key) {\n",
              "          const element = document.querySelector('#df-3ea8b438-e1bd-4375-a9ae-10e4e6ca1256');\n",
              "          const dataTable =\n",
              "            await google.colab.kernel.invokeFunction('convertToInteractive',\n",
              "                                                     [key], {});\n",
              "          if (!dataTable) return;\n",
              "\n",
              "          const docLinkHtml = 'Like what you see? Visit the ' +\n",
              "            '<a target=\"_blank\" href=https://colab.research.google.com/notebooks/data_table.ipynb>data table notebook</a>'\n",
              "            + ' to learn more about interactive tables.';\n",
              "          element.innerHTML = '';\n",
              "          dataTable['output_type'] = 'display_data';\n",
              "          await google.colab.output.renderOutput(dataTable, element);\n",
              "          const docLink = document.createElement('div');\n",
              "          docLink.innerHTML = docLinkHtml;\n",
              "          element.appendChild(docLink);\n",
              "        }\n",
              "      </script>\n",
              "    </div>\n",
              "  </div>\n",
              "  "
            ]
          },
          "metadata": {},
          "execution_count": 50
        }
      ]
    },
    {
      "cell_type": "code",
      "source": [
        "fig_ns = plt.figure() ##crea el grafico\n",
        "ax = fig_ns.add_subplot(1,1,1)\n",
        "ax.set_title(\"Gráfico de frecuencia - Nivel_de_satisfacción\") #titulo\n",
        "ax.bar(tabla_ns[\"Nivel_de_satisfacción\"], tabla_ns[\"count\"]) #dibujar las barras\n",
        "ax.set_xticklabels(tabla_ns[\"Nivel_de_satisfacción\"], rotation = 75) #rota las ejes"
      ],
      "metadata": {
        "colab": {
          "base_uri": "https://localhost:8080/"
        },
        "id": "c3cO-laZoMq-",
        "outputId": "611ac061-8982-48e5-de63-390889ef0d54"
      },
      "execution_count": null,
      "outputs": [
        {
          "output_type": "execute_result",
          "data": {
            "text/plain": [
              "[Text(0, 0, 'Satisfecho/a'),\n",
              " Text(0, 0, 'Ni satisfecho/a  Ni insatisfecho/a'),\n",
              " Text(0, 0, 'Insatisfecho/a'),\n",
              " Text(0, 0, 'Muy satisfecho/a'),\n",
              " Text(0, 0, 'Muy insatisfecho/a')]"
            ]
          },
          "metadata": {},
          "execution_count": 51
        },
        {
          "output_type": "display_data",
          "data": {
            "text/plain": [
              "<Figure size 432x288 with 1 Axes>"
            ],
            "image/png": "[encoded data removed]"
          },
          "metadata": {
            "needs_background": "light"
          }
        }
      ]
    }
  ]
}